{
  "nbformat": 4,
  "nbformat_minor": 0,
  "metadata": {
    "colab": {
      "provenance": [],
      "gpuType": "T4",
      "include_colab_link": true
    },
    "kernelspec": {
      "name": "python3",
      "display_name": "Python 3"
    },
    "language_info": {
      "name": "python"
    }
  },
  "cells": [
    {
      "cell_type": "markdown",
      "metadata": {
        "id": "view-in-github",
        "colab_type": "text"
      },
      "source": [
        "<a href=\"https://colab.research.google.com/github/GuiSSMartins/DTx-Project/blob/main/DTx_Project.ipynb\" target=\"_parent\"><img src=\"https://colab.research.google.com/assets/colab-badge.svg\" alt=\"Open In Colab\"/></a>"
      ]
    },
    {
      "cell_type": "code",
      "execution_count": 43,
      "metadata": {
        "id": "yhdow6jv8LYI"
      },
      "outputs": [],
      "source": [
        "from graphviz import Digraph # para representação gráfica de grafos direcionados (utiliza linguagem dot)\n",
        "import matplotlib.image as mpimg # operações relacionadas a imagens\n",
        "import pandas as pd\n",
        "import numpy as np\n",
        "import matplotlib.pyplot as plt\n",
        "import gc #importing garbage collector\n",
        "import time"
      ]
    },
    {
      "cell_type": "code",
      "source": [
        "# df_prices = pd.read_csv('sell_prices.csv')\n",
        "\n",
        "# função para reduzir a dimensão de um dataset\n",
        "def reduce_mem_usage(df, verbose=True):\n",
        "    numerics = ['int8','int16', 'int32', 'int64', 'float16', 'float32', 'float64']\n",
        "    start_mem = df.memory_usage().sum() / 1024**2\n",
        "    for col in df.columns:\n",
        "        col_type = df[col].dtypes\n",
        "        if col_type in numerics:\n",
        "            c_min = df[col].min()\n",
        "            c_max = df[col].max()\n",
        "            if str(col_type)[:3] == 'int':\n",
        "                if c_min > np.iinfo(np.int8).min and c_max < np.iinfo(np.int8).max:\n",
        "                    df[col] = df[col].astype(np.int8)\n",
        "                elif c_min > np.iinfo(np.int16).min and c_max < np.iinfo(np.int16).max:\n",
        "                    df[col] = df[col].astype(np.int16)\n",
        "                elif c_min > np.iinfo(np.int32).min and c_max < np.iinfo(np.int32).max:\n",
        "                    df[col] = df[col].astype(np.int32)\n",
        "                elif c_min > np.iinfo(np.int64).min and c_max < np.iinfo(np.int64).max:\n",
        "                    df[col] = df[col].astype(np.int64)\n",
        "            else:\n",
        "                if c_min > np.finfo(np.float16).min and c_max < np.finfo(np.float16).max:\n",
        "                    df[col] = df[col].astype(np.float16)\n",
        "                elif c_min > np.finfo(np.float32).min and c_max < np.finfo(np.float32).max:\n",
        "                    df[col] = df[col].astype(np.float32)\n",
        "                else:\n",
        "                    df[col] = df[col].astype(np.float64)\n",
        "    end_mem = df.memory_usage().sum() / 1024**2\n",
        "    if verbose: print('Mem. usage decreased to {:5.2f} Mb ({:.1f}% reduction)'.format(end_mem, 100 * (start_mem - end_mem) / start_mem))\n",
        "    return df\n",
        "\n",
        "# diminuir o tamanho dos datasets\n",
        "#df_prices = reduce_mem_usage(df_prices)"
      ],
      "metadata": {
        "id": "nAh1SqMI2Mqm"
      },
      "execution_count": 44,
      "outputs": []
    },
    {
      "cell_type": "code",
      "source": [
        "# Represenção do digrafo, aplicando cores e percentagens nas arrestas\n",
        "dot = Digraph(comment='Grafo para descrever a Estrutura do Dados')\n",
        "\n",
        "dot.node('A', f'Total de estados', color='lightblue2', style='filled')\n",
        "dot.node('B', f'Estado CA', color='lightblue2', style='filled')\n",
        "dot.node('C', f'Estado TX', color='lightblue2', style='filled')\n",
        "dot.node('D', f'Estado W', color='lightblue2', style='filled')\n",
        "dot.node('E', f'LOJA 1', color='lightblue2', style='filled')\n",
        "dot.node('F', f'LOJA 2', color='lightblue2', style='filled')\n",
        "dot.node('G', f'LOJA 3', color='lightblue2', style='filled')\n",
        "dot.node('H', f'LOJA 4', color='lightblue2', style='filled')\n",
        "dot.node('I', f'LOJA 1', color='lightblue2', style='filled')\n",
        "dot.node('J', f'LOJA 2', color='lightblue2', style='filled')\n",
        "dot.node('K', f'LOJA 3', color='lightblue2', style='filled')\n",
        "dot.node('L', f'LOJA 1', color='lightblue2', style='filled')\n",
        "dot.node('M', f'LOJA 2', color='lightblue2', style='filled')\n",
        "dot.node('N', f'LOJA 3', color='lightblue2', style='filled')\n",
        "dot.node('JA', f'CATEGORY HOBBIES', color='lightblue2', style='filled')\n",
        "dot.node('JB', f'CATEGORY FOOD', color='lightblue2', style='filled')\n",
        "dot.node('JC', f'CATEGORY HOUSEHOLD', color='lightblue2', style='filled')\n",
        "dot.node('JAA', f'DEPARTAMENT HOBBIES 1', color='lightblue2', style='filled')\n",
        "dot.node('JAB', f'DEPARTAMENT HOBBIES 2', color='lightblue2', style='filled')\n",
        "dot.node('JBA', f'DEPARTAMENT FOOD 1', color='lightblue2', style='filled')\n",
        "dot.node('JBB', f'DEPARTAMENT FOOD 2', color='lightblue2', style='filled')\n",
        "dot.node('JBC', f'DEPARTAMENT FOOD 3', color='lightblue2', style='filled')\n",
        "dot.node('JCA', f'DEPARTAMENT HOUSEHOLD 1', color='lightblue2', style='filled')\n",
        "dot.node('JCB', f'DEPARTAMENT HOUSEHOLD 2', color='lightblue2', style='filled')\n",
        "\n",
        "\n",
        "dot.edge('A', 'B')\n",
        "dot.edge('A', 'C')\n",
        "dot.edge('A', 'D')\n",
        "dot.edge('B', 'E')\n",
        "dot.edge('B', 'F')\n",
        "dot.edge('B', 'G')\n",
        "dot.edge('B', 'H')\n",
        "dot.edge('C', 'I')\n",
        "dot.edge('C', 'J')\n",
        "dot.edge('C', 'K')\n",
        "dot.edge('D', 'L')\n",
        "dot.edge('D', 'M')\n",
        "dot.edge('D', 'N')\n",
        "dot.edge('J', 'JA')\n",
        "dot.edge('J', 'JB')\n",
        "dot.edge('J', 'JC')\n",
        "dot.edge('JA', 'JAA')\n",
        "dot.edge('JA', 'JAB')\n",
        "dot.edge('JB', 'JBA')\n",
        "dot.edge('JB', 'JBB')\n",
        "dot.edge('JB', 'JBC')\n",
        "dot.edge('JC', 'JCA')\n",
        "dot.edge('JC', 'JCB')\n",
        "\n",
        "dot.render('/content/drive/MyDrive/Save/patient_dot', format='png', cleanup=True)"
      ],
      "metadata": {
        "colab": {
          "base_uri": "https://localhost:8080/",
          "height": 36
        },
        "id": "tmTh-rLHbim2",
        "outputId": "e2c40a81-71f6-4503-ec30-159250beba13"
      },
      "execution_count": 45,
      "outputs": [
        {
          "output_type": "execute_result",
          "data": {
            "text/plain": [
              "'/content/drive/MyDrive/Save/patient_dot.png'"
            ],
            "application/vnd.google.colaboratory.intrinsic+json": {
              "type": "string"
            }
          },
          "metadata": {},
          "execution_count": 45
        }
      ]
    },
    {
      "cell_type": "code",
      "source": [
        "image = mpimg.imread('/content/drive/MyDrive/Save/patient_dot.png')\n",
        "\n",
        "fig, ax = plt.subplots() #criar uma subparcela única\n",
        "ax.imshow(image) #exibir a imagem na subparcela e desativar os eixos\n",
        "ax.axis('off')\n",
        "#centralizar a imagem na subparcela\n",
        "ax.set_position([0, 0, 1, 1])  # Define a posição da subparcela para cobrir toda a figura\n",
        "#fig.savefig(\"/content/drive/MyDrive/Save/patient_dot.png\")\n",
        "plt.show() #pode nem ser colocado"
      ],
      "metadata": {
        "colab": {
          "base_uri": "https://localhost:8080/",
          "height": 154
        },
        "id": "i-zNoDaXbkoR",
        "outputId": "3aaa1cac-5402-427c-cf20-2b943d5e8706"
      },
      "execution_count": 46,
      "outputs": [
        {
          "output_type": "display_data",
          "data": {
            "text/plain": [
              "<Figure size 640x480 with 1 Axes>"
            ],
            "image/png": "[encoded data removed]"
          },
          "metadata": {}
        }
      ]
    },
    {
      "cell_type": "markdown",
      "source": [
        "### A análise exploratória dos dados e as suas coneções passam a ser feitas no KNIME!!!!!!"
      ],
      "metadata": {
        "id": "FwYed5_4SmVD"
      }
    },
    {
      "cell_type": "markdown",
      "source": [
        "## Decomposição da Série Temporal"
      ],
      "metadata": {
        "id": "BKkI8aOQcoWI"
      }
    },
    {
      "cell_type": "code",
      "source": [
        "df_loja1_serie_temporal_agregada = pd.read_csv('loja1.csv')\n",
        "\n",
        "import numpy as np\n",
        "import tensorflow as tf\n",
        "\n",
        "df_loja1_serie_temporal_agregada = reduce_mem_usage(df_loja1_serie_temporal_agregada)\n",
        "\n",
        "n_periods = 1913\n",
        "\n",
        "# eliminar as colunas indesejadas para a construção da série temporal\n",
        "df_time_series = pd.DataFrame(data={\"Vendas\": df_loja1_serie_temporal_agregada['Vendas_do_dia'].tolist()}, index=df_loja1_serie_temporal_agregada['date'])"
      ],
      "metadata": {
        "colab": {
          "base_uri": "https://localhost:8080/"
        },
        "id": "eUh3x2mkcnqI",
        "outputId": "9a2faa55-5d33-4fa0-d8c7-ee812635fb7f"
      },
      "execution_count": 47,
      "outputs": [
        {
          "output_type": "stream",
          "name": "stdout",
          "text": [
            "Mem. usage decreased to  0.05 Mb (63.8% reduction)\n"
          ]
        }
      ]
    },
    {
      "cell_type": "code",
      "source": [
        "df_loja1_serie_temporal_agregada"
      ],
      "metadata": {
        "colab": {
          "base_uri": "https://localhost:8080/",
          "height": 423
        },
        "id": "dmYAzjgQexAe",
        "outputId": "d0c67a48-4c1d-4149-ac51-c9ab300e1d8d"
      },
      "execution_count": 48,
      "outputs": [
        {
          "output_type": "execute_result",
          "data": {
            "text/plain": [
              "            date  wm_yr_wk  wday  month  year       d  Vendas_do_dia  \\\n",
              "0     2011-01-29     11101     1      1  2011     d_1           4337   \n",
              "1     2011-01-30     11101     2      1  2011     d_2           4155   \n",
              "2     2011-01-31     11101     3      1  2011     d_3           2816   \n",
              "3     2011-02-01     11101     4      2  2011     d_4           3051   \n",
              "4     2011-02-02     11101     5      2  2011     d_5           2630   \n",
              "...          ...       ...   ...    ...   ...     ...            ...   \n",
              "1908  2016-04-20     11612     5      4  2016  d_1909           3722   \n",
              "1909  2016-04-21     11612     6      4  2016  d_1910           3709   \n",
              "1910  2016-04-22     11612     7      4  2016  d_1911           4387   \n",
              "1911  2016-04-23     11613     1      4  2016  d_1912           5577   \n",
              "1912  2016-04-24     11613     2      4  2016  d_1913           6113   \n",
              "\n",
              "      n_eventos  week_group  \n",
              "0             0           0  \n",
              "1             0           0  \n",
              "2             0           1  \n",
              "3             0           1  \n",
              "4             0           1  \n",
              "...         ...         ...  \n",
              "1908          0           1  \n",
              "1909          0           1  \n",
              "1910          0           1  \n",
              "1911          0           0  \n",
              "1912          0           0  \n",
              "\n",
              "[1913 rows x 9 columns]"
            ],
            "text/html": [
              "\n",
              "  <div id=\"df-a0183441-a8aa-4270-a831-166ceb188fe1\" class=\"colab-df-container\">\n",
              "    <div>\n",
              "<style scoped>\n",
              "    .dataframe tbody tr th:only-of-type {\n",
              "        vertical-align: middle;\n",
              "    }\n",
              "\n",
              "    .dataframe tbody tr th {\n",
              "        vertical-align: top;\n",
              "    }\n",
              "\n",
              "    .dataframe thead th {\n",
              "        text-align: right;\n",
              "    }\n",
              "</style>\n",
              "<table border=\"1\" class=\"dataframe\">\n",
              "  <thead>\n",
              "    <tr style=\"text-align: right;\">\n",
              "      <th></th>\n",
              "      <th>date</th>\n",
              "      <th>wm_yr_wk</th>\n",
              "      <th>wday</th>\n",
              "      <th>month</th>\n",
              "      <th>year</th>\n",
              "      <th>d</th>\n",
              "      <th>Vendas_do_dia</th>\n",
              "      <th>n_eventos</th>\n",
              "      <th>week_group</th>\n",
              "    </tr>\n",
              "  </thead>\n",
              "  <tbody>\n",
              "    <tr>\n",
              "      <th>0</th>\n",
              "      <td>2011-01-29</td>\n",
              "      <td>11101</td>\n",
              "      <td>1</td>\n",
              "      <td>1</td>\n",
              "      <td>2011</td>\n",
              "      <td>d_1</td>\n",
              "      <td>4337</td>\n",
              "      <td>0</td>\n",
              "      <td>0</td>\n",
              "    </tr>\n",
              "    <tr>\n",
              "      <th>1</th>\n",
              "      <td>2011-01-30</td>\n",
              "      <td>11101</td>\n",
              "      <td>2</td>\n",
              "      <td>1</td>\n",
              "      <td>2011</td>\n",
              "      <td>d_2</td>\n",
              "      <td>4155</td>\n",
              "      <td>0</td>\n",
              "      <td>0</td>\n",
              "    </tr>\n",
              "    <tr>\n",
              "      <th>2</th>\n",
              "      <td>2011-01-31</td>\n",
              "      <td>11101</td>\n",
              "      <td>3</td>\n",
              "      <td>1</td>\n",
              "      <td>2011</td>\n",
              "      <td>d_3</td>\n",
              "      <td>2816</td>\n",
              "      <td>0</td>\n",
              "      <td>1</td>\n",
              "    </tr>\n",
              "    <tr>\n",
              "      <th>3</th>\n",
              "      <td>2011-02-01</td>\n",
              "      <td>11101</td>\n",
              "      <td>4</td>\n",
              "      <td>2</td>\n",
              "      <td>2011</td>\n",
              "      <td>d_4</td>\n",
              "      <td>3051</td>\n",
              "      <td>0</td>\n",
              "      <td>1</td>\n",
              "    </tr>\n",
              "    <tr>\n",
              "      <th>4</th>\n",
              "      <td>2011-02-02</td>\n",
              "      <td>11101</td>\n",
              "      <td>5</td>\n",
              "      <td>2</td>\n",
              "      <td>2011</td>\n",
              "      <td>d_5</td>\n",
              "      <td>2630</td>\n",
              "      <td>0</td>\n",
              "      <td>1</td>\n",
              "    </tr>\n",
              "    <tr>\n",
              "      <th>...</th>\n",
              "      <td>...</td>\n",
              "      <td>...</td>\n",
              "      <td>...</td>\n",
              "      <td>...</td>\n",
              "      <td>...</td>\n",
              "      <td>...</td>\n",
              "      <td>...</td>\n",
              "      <td>...</td>\n",
              "      <td>...</td>\n",
              "    </tr>\n",
              "    <tr>\n",
              "      <th>1908</th>\n",
              "      <td>2016-04-20</td>\n",
              "      <td>11612</td>\n",
              "      <td>5</td>\n",
              "      <td>4</td>\n",
              "      <td>2016</td>\n",
              "      <td>d_1909</td>\n",
              "      <td>3722</td>\n",
              "      <td>0</td>\n",
              "      <td>1</td>\n",
              "    </tr>\n",
              "    <tr>\n",
              "      <th>1909</th>\n",
              "      <td>2016-04-21</td>\n",
              "      <td>11612</td>\n",
              "      <td>6</td>\n",
              "      <td>4</td>\n",
              "      <td>2016</td>\n",
              "      <td>d_1910</td>\n",
              "      <td>3709</td>\n",
              "      <td>0</td>\n",
              "      <td>1</td>\n",
              "    </tr>\n",
              "    <tr>\n",
              "      <th>1910</th>\n",
              "      <td>2016-04-22</td>\n",
              "      <td>11612</td>\n",
              "      <td>7</td>\n",
              "      <td>4</td>\n",
              "      <td>2016</td>\n",
              "      <td>d_1911</td>\n",
              "      <td>4387</td>\n",
              "      <td>0</td>\n",
              "      <td>1</td>\n",
              "    </tr>\n",
              "    <tr>\n",
              "      <th>1911</th>\n",
              "      <td>2016-04-23</td>\n",
              "      <td>11613</td>\n",
              "      <td>1</td>\n",
              "      <td>4</td>\n",
              "      <td>2016</td>\n",
              "      <td>d_1912</td>\n",
              "      <td>5577</td>\n",
              "      <td>0</td>\n",
              "      <td>0</td>\n",
              "    </tr>\n",
              "    <tr>\n",
              "      <th>1912</th>\n",
              "      <td>2016-04-24</td>\n",
              "      <td>11613</td>\n",
              "      <td>2</td>\n",
              "      <td>4</td>\n",
              "      <td>2016</td>\n",
              "      <td>d_1913</td>\n",
              "      <td>6113</td>\n",
              "      <td>0</td>\n",
              "      <td>0</td>\n",
              "    </tr>\n",
              "  </tbody>\n",
              "</table>\n",
              "<p>1913 rows × 9 columns</p>\n",
              "</div>\n",
              "    <div class=\"colab-df-buttons\">\n",
              "\n",
              "  <div class=\"colab-df-container\">\n",
              "    <button class=\"colab-df-convert\" onclick=\"convertToInteractive('df-a0183441-a8aa-4270-a831-166ceb188fe1')\"\n",
              "            title=\"Convert this dataframe to an interactive table.\"\n",
              "            style=\"display:none;\">\n",
              "\n",
              "  <svg xmlns=\"http://www.w3.org/2000/svg\" height=\"24px\" viewBox=\"0 -960 960 960\">\n",
              "    <path d=\"M120-120v-720h720v720H120Zm60-500h600v-160H180v160Zm220 220h160v-160H400v160Zm0 220h160v-160H400v160ZM180-400h160v-160H180v160Zm440 0h160v-160H620v160ZM180-180h160v-160H180v160Zm440 0h160v-160H620v160Z\"/>\n",
              "  </svg>\n",
              "    </button>\n",
              "\n",
              "  <style>\n",
              "    .colab-df-container {\n",
              "      display:flex;\n",
              "      gap: 12px;\n",
              "    }\n",
              "\n",
              "    .colab-df-convert {\n",
              "      background-color: #E8F0FE;\n",
              "      border: none;\n",
              "      border-radius: 50%;\n",
              "      cursor: pointer;\n",
              "      display: none;\n",
              "      fill: #1967D2;\n",
              "      height: 32px;\n",
              "      padding: 0 0 0 0;\n",
              "      width: 32px;\n",
              "    }\n",
              "\n",
              "    .colab-df-convert:hover {\n",
              "      background-color: #E2EBFA;\n",
              "      box-shadow: 0px 1px 2px rgba(60, 64, 67, 0.3), 0px 1px 3px 1px rgba(60, 64, 67, 0.15);\n",
              "      fill: #174EA6;\n",
              "    }\n",
              "\n",
              "    .colab-df-buttons div {\n",
              "      margin-bottom: 4px;\n",
              "    }\n",
              "\n",
              "    [theme=dark] .colab-df-convert {\n",
              "      background-color: #3B4455;\n",
              "      fill: #D2E3FC;\n",
              "    }\n",
              "\n",
              "    [theme=dark] .colab-df-convert:hover {\n",
              "      background-color: #434B5C;\n",
              "      box-shadow: 0px 1px 3px 1px rgba(0, 0, 0, 0.15);\n",
              "      filter: drop-shadow(0px 1px 2px rgba(0, 0, 0, 0.3));\n",
              "      fill: #FFFFFF;\n",
              "    }\n",
              "  </style>\n",
              "\n",
              "    <script>\n",
              "      const buttonEl =\n",
              "        document.querySelector('#df-a0183441-a8aa-4270-a831-166ceb188fe1 button.colab-df-convert');\n",
              "      buttonEl.style.display =\n",
              "        google.colab.kernel.accessAllowed ? 'block' : 'none';\n",
              "\n",
              "      async function convertToInteractive(key) {\n",
              "        const element = document.querySelector('#df-a0183441-a8aa-4270-a831-166ceb188fe1');\n",
              "        const dataTable =\n",
              "          await google.colab.kernel.invokeFunction('convertToInteractive',\n",
              "                                                    [key], {});\n",
              "        if (!dataTable) return;\n",
              "\n",
              "        const docLinkHtml = 'Like what you see? Visit the ' +\n",
              "          '<a target=\"_blank\" href=https://colab.research.google.com/notebooks/data_table.ipynb>data table notebook</a>'\n",
              "          + ' to learn more about interactive tables.';\n",
              "        element.innerHTML = '';\n",
              "        dataTable['output_type'] = 'display_data';\n",
              "        await google.colab.output.renderOutput(dataTable, element);\n",
              "        const docLink = document.createElement('div');\n",
              "        docLink.innerHTML = docLinkHtml;\n",
              "        element.appendChild(docLink);\n",
              "      }\n",
              "    </script>\n",
              "  </div>\n",
              "\n",
              "\n",
              "<div id=\"df-df400222-5c8d-4f71-a81e-04dc92065cec\">\n",
              "  <button class=\"colab-df-quickchart\" onclick=\"quickchart('df-df400222-5c8d-4f71-a81e-04dc92065cec')\"\n",
              "            title=\"Suggest charts\"\n",
              "            style=\"display:none;\">\n",
              "\n",
              "<svg xmlns=\"http://www.w3.org/2000/svg\" height=\"24px\"viewBox=\"0 0 24 24\"\n",
              "     width=\"24px\">\n",
              "    <g>\n",
              "        <path d=\"M19 3H5c-1.1 0-2 .9-2 2v14c0 1.1.9 2 2 2h14c1.1 0 2-.9 2-2V5c0-1.1-.9-2-2-2zM9 17H7v-7h2v7zm4 0h-2V7h2v10zm4 0h-2v-4h2v4z\"/>\n",
              "    </g>\n",
              "</svg>\n",
              "  </button>\n",
              "\n",
              "<style>\n",
              "  .colab-df-quickchart {\n",
              "      --bg-color: #E8F0FE;\n",
              "      --fill-color: #1967D2;\n",
              "      --hover-bg-color: #E2EBFA;\n",
              "      --hover-fill-color: #174EA6;\n",
              "      --disabled-fill-color: #AAA;\n",
              "      --disabled-bg-color: #DDD;\n",
              "  }\n",
              "\n",
              "  [theme=dark] .colab-df-quickchart {\n",
              "      --bg-color: #3B4455;\n",
              "      --fill-color: #D2E3FC;\n",
              "      --hover-bg-color: #434B5C;\n",
              "      --hover-fill-color: #FFFFFF;\n",
              "      --disabled-bg-color: #3B4455;\n",
              "      --disabled-fill-color: #666;\n",
              "  }\n",
              "\n",
              "  .colab-df-quickchart {\n",
              "    background-color: var(--bg-color);\n",
              "    border: none;\n",
              "    border-radius: 50%;\n",
              "    cursor: pointer;\n",
              "    display: none;\n",
              "    fill: var(--fill-color);\n",
              "    height: 32px;\n",
              "    padding: 0;\n",
              "    width: 32px;\n",
              "  }\n",
              "\n",
              "  .colab-df-quickchart:hover {\n",
              "    background-color: var(--hover-bg-color);\n",
              "    box-shadow: 0 1px 2px rgba(60, 64, 67, 0.3), 0 1px 3px 1px rgba(60, 64, 67, 0.15);\n",
              "    fill: var(--button-hover-fill-color);\n",
              "  }\n",
              "\n",
              "  .colab-df-quickchart-complete:disabled,\n",
              "  .colab-df-quickchart-complete:disabled:hover {\n",
              "    background-color: var(--disabled-bg-color);\n",
              "    fill: var(--disabled-fill-color);\n",
              "    box-shadow: none;\n",
              "  }\n",
              "\n",
              "  .colab-df-spinner {\n",
              "    border: 2px solid var(--fill-color);\n",
              "    border-color: transparent;\n",
              "    border-bottom-color: var(--fill-color);\n",
              "    animation:\n",
              "      spin 1s steps(1) infinite;\n",
              "  }\n",
              "\n",
              "  @keyframes spin {\n",
              "    0% {\n",
              "      border-color: transparent;\n",
              "      border-bottom-color: var(--fill-color);\n",
              "      border-left-color: var(--fill-color);\n",
              "    }\n",
              "    20% {\n",
              "      border-color: transparent;\n",
              "      border-left-color: var(--fill-color);\n",
              "      border-top-color: var(--fill-color);\n",
              "    }\n",
              "    30% {\n",
              "      border-color: transparent;\n",
              "      border-left-color: var(--fill-color);\n",
              "      border-top-color: var(--fill-color);\n",
              "      border-right-color: var(--fill-color);\n",
              "    }\n",
              "    40% {\n",
              "      border-color: transparent;\n",
              "      border-right-color: var(--fill-color);\n",
              "      border-top-color: var(--fill-color);\n",
              "    }\n",
              "    60% {\n",
              "      border-color: transparent;\n",
              "      border-right-color: var(--fill-color);\n",
              "    }\n",
              "    80% {\n",
              "      border-color: transparent;\n",
              "      border-right-color: var(--fill-color);\n",
              "      border-bottom-color: var(--fill-color);\n",
              "    }\n",
              "    90% {\n",
              "      border-color: transparent;\n",
              "      border-bottom-color: var(--fill-color);\n",
              "    }\n",
              "  }\n",
              "</style>\n",
              "\n",
              "  <script>\n",
              "    async function quickchart(key) {\n",
              "      const quickchartButtonEl =\n",
              "        document.querySelector('#' + key + ' button');\n",
              "      quickchartButtonEl.disabled = true;  // To prevent multiple clicks.\n",
              "      quickchartButtonEl.classList.add('colab-df-spinner');\n",
              "      try {\n",
              "        const charts = await google.colab.kernel.invokeFunction(\n",
              "            'suggestCharts', [key], {});\n",
              "      } catch (error) {\n",
              "        console.error('Error during call to suggestCharts:', error);\n",
              "      }\n",
              "      quickchartButtonEl.classList.remove('colab-df-spinner');\n",
              "      quickchartButtonEl.classList.add('colab-df-quickchart-complete');\n",
              "    }\n",
              "    (() => {\n",
              "      let quickchartButtonEl =\n",
              "        document.querySelector('#df-df400222-5c8d-4f71-a81e-04dc92065cec button');\n",
              "      quickchartButtonEl.style.display =\n",
              "        google.colab.kernel.accessAllowed ? 'block' : 'none';\n",
              "    })();\n",
              "  </script>\n",
              "</div>\n",
              "    </div>\n",
              "  </div>\n"
            ],
            "application/vnd.google.colaboratory.intrinsic+json": {
              "type": "dataframe",
              "variable_name": "df_loja1_serie_temporal_agregada",
              "summary": "{\n  \"name\": \"df_loja1_serie_temporal_agregada\",\n  \"rows\": 1913,\n  \"fields\": [\n    {\n      \"column\": \"date\",\n      \"properties\": {\n        \"dtype\": \"object\",\n        \"num_unique_values\": 1913,\n        \"samples\": [\n          \"2014-06-12\",\n          \"2011-05-20\",\n          \"2016-02-18\"\n        ],\n        \"semantic_type\": \"\",\n        \"description\": \"\"\n      }\n    },\n    {\n      \"column\": \"wm_yr_wk\",\n      \"properties\": {\n        \"dtype\": \"int16\",\n        \"num_unique_values\": 274,\n        \"samples\": [\n          11131,\n          11408,\n          11438\n        ],\n        \"semantic_type\": \"\",\n        \"description\": \"\"\n      }\n    },\n    {\n      \"column\": \"wday\",\n      \"properties\": {\n        \"dtype\": \"int8\",\n        \"num_unique_values\": 7,\n        \"samples\": [\n          1,\n          2,\n          6\n        ],\n        \"semantic_type\": \"\",\n        \"description\": \"\"\n      }\n    },\n    {\n      \"column\": \"month\",\n      \"properties\": {\n        \"dtype\": \"int8\",\n        \"num_unique_values\": 12,\n        \"samples\": [\n          11,\n          10,\n          1\n        ],\n        \"semantic_type\": \"\",\n        \"description\": \"\"\n      }\n    },\n    {\n      \"column\": \"year\",\n      \"properties\": {\n        \"dtype\": \"int16\",\n        \"num_unique_values\": 6,\n        \"samples\": [\n          2011,\n          2012,\n          2016\n        ],\n        \"semantic_type\": \"\",\n        \"description\": \"\"\n      }\n    },\n    {\n      \"column\": \"d\",\n      \"properties\": {\n        \"dtype\": \"string\",\n        \"num_unique_values\": 1913,\n        \"samples\": [\n          \"d_1231\",\n          \"d_112\",\n          \"d_1847\"\n        ],\n        \"semantic_type\": \"\",\n        \"description\": \"\"\n      }\n    },\n    {\n      \"column\": \"Vendas_do_dia\",\n      \"properties\": {\n        \"dtype\": \"int16\",\n        \"num_unique_values\": 1458,\n        \"samples\": [\n          4327,\n          5875,\n          3330\n        ],\n        \"semantic_type\": \"\",\n        \"description\": \"\"\n      }\n    },\n    {\n      \"column\": \"n_eventos\",\n      \"properties\": {\n        \"dtype\": \"int8\",\n        \"num_unique_values\": 3,\n        \"samples\": [\n          0,\n          1,\n          2\n        ],\n        \"semantic_type\": \"\",\n        \"description\": \"\"\n      }\n    },\n    {\n      \"column\": \"week_group\",\n      \"properties\": {\n        \"dtype\": \"int8\",\n        \"num_unique_values\": 2,\n        \"samples\": [\n          1,\n          0\n        ],\n        \"semantic_type\": \"\",\n        \"description\": \"\"\n      }\n    }\n  ]\n}"
            }
          },
          "metadata": {},
          "execution_count": 48
        }
      ]
    },
    {
      "cell_type": "code",
      "source": [
        "print(df_loja1_serie_temporal_agregada.columns)"
      ],
      "metadata": {
        "colab": {
          "base_uri": "https://localhost:8080/"
        },
        "id": "aE2cAyhjg0hc",
        "outputId": "c7424c65-3a93-40e6-d41c-bd55701c09aa"
      },
      "execution_count": 49,
      "outputs": [
        {
          "output_type": "stream",
          "name": "stdout",
          "text": [
            "Index(['date', 'wm_yr_wk', 'wday', 'month', 'year', 'd', 'Vendas_do_dia',\n",
            "       'n_eventos', 'week_group'],\n",
            "      dtype='object')\n"
          ]
        }
      ]
    },
    {
      "cell_type": "code",
      "source": [
        "print(df_time_series)"
      ],
      "metadata": {
        "colab": {
          "base_uri": "https://localhost:8080/"
        },
        "id": "3IgiOjj6i8mi",
        "outputId": "c02fa643-9610-4ace-bb2f-8f8f969a092c"
      },
      "execution_count": 50,
      "outputs": [
        {
          "output_type": "stream",
          "name": "stdout",
          "text": [
            "            Vendas\n",
            "date              \n",
            "2011-01-29    4337\n",
            "2011-01-30    4155\n",
            "2011-01-31    2816\n",
            "2011-02-01    3051\n",
            "2011-02-02    2630\n",
            "...            ...\n",
            "2016-04-20    3722\n",
            "2016-04-21    3709\n",
            "2016-04-22    4387\n",
            "2016-04-23    5577\n",
            "2016-04-24    6113\n",
            "\n",
            "[1913 rows x 1 columns]\n"
          ]
        }
      ]
    },
    {
      "cell_type": "code",
      "source": [
        "from statsmodels.tsa.seasonal import seasonal_decompose\n",
        "\n",
        "decomposition = seasonal_decompose(df_time_series, model='additive', period=365)\n",
        "decomposition.plot()\n",
        "plt.show()"
      ],
      "metadata": {
        "colab": {
          "base_uri": "https://localhost:8080/",
          "height": 487
        },
        "id": "34ZOF2VhdjMP",
        "outputId": "d44789c0-9454-4d3f-8093-56628476107b"
      },
      "execution_count": 51,
      "outputs": [
        {
          "output_type": "display_data",
          "data": {
            "text/plain": [
              "<Figure size 640x480 with 4 Axes>"
            ],
            "image/png": "[encoded data removed]"
          },
          "metadata": {}
        }
      ]
    },
    {
      "cell_type": "markdown",
      "source": [
        "## Carregar dados (agora concatenados)"
      ],
      "metadata": {
        "id": "OVLZ5o1FSCtl"
      }
    },
    {
      "cell_type": "code",
      "source": [
        "df_loja1_RNN = reduce_mem_usage(df_loja1_serie_temporal_agregada)\n",
        "\n",
        "#reduce_mem_usage(df_loja1_serie_temporal_agregada)"
      ],
      "metadata": {
        "id": "I11j27D4SeuA",
        "outputId": "4d2f78a9-9bcf-4154-96dd-bba536753e25",
        "colab": {
          "base_uri": "https://localhost:8080/"
        }
      },
      "execution_count": 52,
      "outputs": [
        {
          "output_type": "stream",
          "name": "stdout",
          "text": [
            "Mem. usage decreased to  0.05 Mb (0.0% reduction)\n"
          ]
        }
      ]
    },
    {
      "cell_type": "markdown",
      "source": [
        "# Treino de Modelos"
      ],
      "metadata": {
        "id": "vk_uvrVySHU-"
      }
    },
    {
      "cell_type": "markdown",
      "source": [
        "##### Rede Neuronal Recurrente (RNN)"
      ],
      "metadata": {
        "id": "cPRN-SMZx6Z6"
      }
    },
    {
      "cell_type": "code",
      "source": [
        "'''import pandas as pd\n",
        "import numpy as np\n",
        "import tensorflow as tf\n",
        "from tensorflow.keras.models import Sequential\n",
        "from tensorflow.keras.layers import Dense, SimpleRNN\n",
        "\n",
        "# Assuming df_loja1_RNN is your DataFrame\n",
        "# You should load or define your DataFrame here\n",
        "\n",
        "num_samples = 1913  # Assuming this is the correct number of samples\n",
        "time_steps = 30\n",
        "input_features = 3\n",
        "output_features = 1\n",
        "\n",
        "# Select specific input and output columns\n",
        "# Assuming df_loja1_RNN is your DataFrame\n",
        "selected_input_columns = df_loja1_RNN.iloc[:, [1, 2, 7, 8]]  # Access columns using .iloc method\n",
        "selected_output_column = df_loja1_RNN.iloc[:, 6]  # Access single column directly\n",
        "\n",
        "# Convert DataFrame columns to NumPy arrays\n",
        "X = selected_input_columns.values\n",
        "Y = selected_output_column.values\n",
        "\n",
        "# Calculate the number of sequences based on available samples and desired time steps\n",
        "num_sequences = num_samples // time_steps\n",
        "\n",
        "# Truncate the input and output data to fit the number of sequences#\n",
        "X_truncated = X[:num_sequences * time_steps].reshape(num_sequences, time_steps, input_features)\n",
        "Y_truncated = Y[(time_steps + 1):(num_sequences * time_steps + 1)].reshape(num_sequences, time_steps, output_features)\n",
        "'''"
      ],
      "metadata": {
        "id": "Hzckxj48SBY-",
        "outputId": "aef3899e-8fbe-46ea-c11d-17cb8daa15a9",
        "colab": {
          "base_uri": "https://localhost:8080/",
          "height": 140
        }
      },
      "execution_count": 53,
      "outputs": [
        {
          "output_type": "execute_result",
          "data": {
            "text/plain": [
              "'import pandas as pd\\nimport numpy as np\\nimport tensorflow as tf\\nfrom tensorflow.keras.models import Sequential\\nfrom tensorflow.keras.layers import Dense, SimpleRNN\\n\\n# Assuming df_loja1_RNN is your DataFrame\\n# You should load or define your DataFrame here\\n\\nnum_samples = 1913  # Assuming this is the correct number of samples\\ntime_steps = 30\\ninput_features = 3\\noutput_features = 1\\n\\n# Select specific input and output columns\\n# Assuming df_loja1_RNN is your DataFrame\\nselected_input_columns = df_loja1_RNN.iloc[:, [1, 2, 7, 8]]  # Access columns using .iloc method\\nselected_output_column = df_loja1_RNN.iloc[:, 6]  # Access single column directly\\n\\n# Convert DataFrame columns to NumPy arrays\\nX = selected_input_columns.values\\nY = selected_output_column.values\\n\\n# Calculate the number of sequences based on available samples and desired time steps\\nnum_sequences = num_samples // time_steps\\n\\n# Truncate the input and output data to fit the number of sequences#\\nX_truncated = X[:num_sequences * time_steps].reshape(num_sequences, time_steps, input_features)\\nY_truncated = Y[(time_steps + 1):(num_sequences * time_steps + 1)].reshape(num_sequences, time_steps, output_features)\\n'"
            ],
            "application/vnd.google.colaboratory.intrinsic+json": {
              "type": "string"
            }
          },
          "metadata": {},
          "execution_count": 53
        }
      ]
    },
    {
      "cell_type": "code",
      "source": [
        "import numpy as np\n",
        "import tensorflow as tf\n",
        "from tensorflow.keras.models import Sequential\n",
        "from tensorflow.keras.layers import Dense, SimpleRNN\n",
        "from sklearn.preprocessing import StandardScaler\n",
        "\n",
        "# Select specific input and output columns\n",
        "# Assuming df_loja1_RNN is your DataFrame\n",
        "selected_input_columns = df_loja1_RNN.iloc[:, [1, 2, 7, 8]]  # Access columns using .iloc method\n",
        "selected_output_column = df_loja1_RNN.iloc[:, 6]  # Access single column directly\n",
        "\n",
        "from sklearn.preprocessing import StandardScaler\n",
        "\n",
        "# Initialize the scaler\n",
        "scaler = StandardScaler()\n",
        "\n",
        "print(selected_output_column.values)\n",
        "\n",
        "# Fit scaler to the data and transform it\n",
        "selected_input_columns = scaler.fit_transform(selected_input_columns)\n",
        "selected_output_column = scaler.fit_transform(selected_output_column.values.reshape(-1, 1))\n",
        "\n",
        "# Assuming you're using TensorFlow's timeseries_dataset_from_array\n",
        "from tensorflow.keras.preprocessing import timeseries_dataset_from_array\n",
        "\n",
        "input_data = selected_input_columns[:-7]\n",
        "targets = selected_output_column[7:]\n",
        "dataset = timeseries_dataset_from_array(\n",
        "    input_data, targets, sequence_length=7)\n",
        "for batch in dataset:\n",
        "    inputs, targets = batch\n",
        "    assert np.array_equal(inputs[0], selected_input_columns[:7])  # First sequence: steps [0-9]\n",
        "    # Corresponding target: step 10\n",
        "    assert np.array_equal(targets[0], selected_output_column[7])\n",
        "    break"
      ],
      "metadata": {
        "id": "Vc8AqsiarUyI",
        "colab": {
          "base_uri": "https://localhost:8080/"
        },
        "outputId": "183a99d0-75f8-4704-c09f-e2832236d733"
      },
      "execution_count": 54,
      "outputs": [
        {
          "output_type": "stream",
          "name": "stdout",
          "text": [
            "[4337 4155 2816 ... 4387 5577 6113]\n"
          ]
        }
      ]
    },
    {
      "cell_type": "code",
      "source": [
        "len(dataset)"
      ],
      "metadata": {
        "colab": {
          "base_uri": "https://localhost:8080/"
        },
        "id": "GpK0HLBl0ACg",
        "outputId": "113e2f6d-44d4-4f7d-a7e5-adc93796feb2"
      },
      "execution_count": 55,
      "outputs": [
        {
          "output_type": "execute_result",
          "data": {
            "text/plain": [
              "15"
            ]
          },
          "metadata": {},
          "execution_count": 55
        }
      ]
    },
    {
      "cell_type": "code",
      "source": [
        "inputs, targets = batch\n",
        "\n",
        "inputs"
      ],
      "metadata": {
        "id": "zl3UE3fiUi4h",
        "outputId": "93d9ca34-1449-4084-ead0-6492e9f53de3",
        "colab": {
          "base_uri": "https://localhost:8080/"
        }
      },
      "execution_count": 56,
      "outputs": [
        {
          "output_type": "execute_result",
          "data": {
            "text/plain": [
              "<tf.Tensor: shape=(128, 7, 4), dtype=float64, numpy=\n",
              "array([[[-1.58399083e+00, -1.49820503e+00, -2.92095172e-01,\n",
              "         -1.57825090e+00],\n",
              "        [-1.58399083e+00, -9.98367879e-01, -2.92095172e-01,\n",
              "         -1.57825090e+00],\n",
              "        [-1.58399083e+00, -4.98530728e-01, -2.92095172e-01,\n",
              "          6.33612817e-01],\n",
              "        ...,\n",
              "        [-1.58399083e+00,  5.01143573e-01, -2.92095172e-01,\n",
              "          6.33612817e-01],\n",
              "        [-1.58399083e+00,  1.00098072e+00, -2.92095172e-01,\n",
              "          6.33612817e-01],\n",
              "        [-1.58399083e+00,  1.50081787e+00, -2.92095172e-01,\n",
              "          6.33612817e-01]],\n",
              "\n",
              "       [[-1.58399083e+00, -9.98367879e-01, -2.92095172e-01,\n",
              "         -1.57825090e+00],\n",
              "        [-1.58399083e+00, -4.98530728e-01, -2.92095172e-01,\n",
              "          6.33612817e-01],\n",
              "        [-1.58399083e+00,  1.30642224e-03, -2.92095172e-01,\n",
              "          6.33612817e-01],\n",
              "        ...,\n",
              "        [-1.58399083e+00,  1.00098072e+00, -2.92095172e-01,\n",
              "          6.33612817e-01],\n",
              "        [-1.58399083e+00,  1.50081787e+00, -2.92095172e-01,\n",
              "          6.33612817e-01],\n",
              "        [-1.57734075e+00, -1.49820503e+00, -2.92095172e-01,\n",
              "         -1.57825090e+00]],\n",
              "\n",
              "       [[-1.58399083e+00, -4.98530728e-01, -2.92095172e-01,\n",
              "          6.33612817e-01],\n",
              "        [-1.58399083e+00,  1.30642224e-03, -2.92095172e-01,\n",
              "          6.33612817e-01],\n",
              "        [-1.58399083e+00,  5.01143573e-01, -2.92095172e-01,\n",
              "          6.33612817e-01],\n",
              "        ...,\n",
              "        [-1.58399083e+00,  1.50081787e+00, -2.92095172e-01,\n",
              "          6.33612817e-01],\n",
              "        [-1.57734075e+00, -1.49820503e+00, -2.92095172e-01,\n",
              "         -1.57825090e+00],\n",
              "        [-1.57734075e+00, -9.98367879e-01,  3.24447486e+00,\n",
              "         -1.57825090e+00]],\n",
              "\n",
              "       ...,\n",
              "\n",
              "       [[-1.47093951e+00,  1.50081787e+00, -2.92095172e-01,\n",
              "          6.33612817e-01],\n",
              "        [-1.46428943e+00, -1.49820503e+00, -2.92095172e-01,\n",
              "         -1.57825090e+00],\n",
              "        [-1.46428943e+00, -9.98367879e-01, -2.92095172e-01,\n",
              "         -1.57825090e+00],\n",
              "        ...,\n",
              "        [-1.46428943e+00,  1.30642224e-03, -2.92095172e-01,\n",
              "          6.33612817e-01],\n",
              "        [-1.46428943e+00,  5.01143573e-01, -2.92095172e-01,\n",
              "          6.33612817e-01],\n",
              "        [-1.46428943e+00,  1.00098072e+00, -2.92095172e-01,\n",
              "          6.33612817e-01]],\n",
              "\n",
              "       [[-1.46428943e+00, -1.49820503e+00, -2.92095172e-01,\n",
              "         -1.57825090e+00],\n",
              "        [-1.46428943e+00, -9.98367879e-01, -2.92095172e-01,\n",
              "         -1.57825090e+00],\n",
              "        [-1.46428943e+00, -4.98530728e-01, -2.92095172e-01,\n",
              "          6.33612817e-01],\n",
              "        ...,\n",
              "        [-1.46428943e+00,  5.01143573e-01, -2.92095172e-01,\n",
              "          6.33612817e-01],\n",
              "        [-1.46428943e+00,  1.00098072e+00, -2.92095172e-01,\n",
              "          6.33612817e-01],\n",
              "        [-1.46428943e+00,  1.50081787e+00, -2.92095172e-01,\n",
              "          6.33612817e-01]],\n",
              "\n",
              "       [[-1.46428943e+00, -9.98367879e-01, -2.92095172e-01,\n",
              "         -1.57825090e+00],\n",
              "        [-1.46428943e+00, -4.98530728e-01, -2.92095172e-01,\n",
              "          6.33612817e-01],\n",
              "        [-1.46428943e+00,  1.30642224e-03, -2.92095172e-01,\n",
              "          6.33612817e-01],\n",
              "        ...,\n",
              "        [-1.46428943e+00,  1.00098072e+00, -2.92095172e-01,\n",
              "          6.33612817e-01],\n",
              "        [-1.46428943e+00,  1.50081787e+00, -2.92095172e-01,\n",
              "          6.33612817e-01],\n",
              "        [-1.45763935e+00, -1.49820503e+00, -2.92095172e-01,\n",
              "         -1.57825090e+00]]])>"
            ]
          },
          "metadata": {},
          "execution_count": 56
        }
      ]
    },
    {
      "cell_type": "code",
      "source": [
        "targets"
      ],
      "metadata": {
        "colab": {
          "base_uri": "https://localhost:8080/"
        },
        "id": "GySSsFtsw9Pp",
        "outputId": "33933519-fcd9-4bf2-fdda-a327a3ef6756"
      },
      "execution_count": 57,
      "outputs": [
        {
          "output_type": "execute_result",
          "data": {
            "text/plain": [
              "<tf.Tensor: shape=(128, 1), dtype=float64, numpy=\n",
              "array([[ 1.42482683],\n",
              "       [ 0.3185205 ],\n",
              "       [-0.87451539],\n",
              "       [-1.03788971],\n",
              "       [-1.32530749],\n",
              "       [-1.1054581 ],\n",
              "       [-0.95418559],\n",
              "       [ 0.2943169 ],\n",
              "       [ 0.33263927],\n",
              "       [-1.27790877],\n",
              "       [-1.60768285],\n",
              "       [-1.76702323],\n",
              "       [-2.03225437],\n",
              "       [-1.01772004],\n",
              "       [ 0.53332747],\n",
              "       [-0.0586523 ],\n",
              "       [-0.76660767],\n",
              "       [-1.59658953],\n",
              "       [-1.66113247],\n",
              "       [-1.62381858],\n",
              "       [-1.33438384],\n",
              "       [-0.30774771],\n",
              "       [-0.48019837],\n",
              "       [-1.7932438 ],\n",
              "       [-1.48767332],\n",
              "       [-1.47758849],\n",
              "       [-1.46851213],\n",
              "       [-1.05503393],\n",
              "       [ 0.07245055],\n",
              "       [ 0.81469435],\n",
              "       [-0.89367658],\n",
              "       [-1.03587274],\n",
              "       [-1.26278152],\n",
              "       [-1.38581649],\n",
              "       [-0.78173492],\n",
              "       [ 0.09060325],\n",
              "       [ 0.07043358],\n",
              "       [-1.1538653 ],\n",
              "       [-1.65407309],\n",
              "       [-1.51490237],\n",
              "       [-1.60264043],\n",
              "       [-1.29101905],\n",
              "       [ 0.11884078],\n",
              "       [-0.12117827],\n",
              "       [-1.40094375],\n",
              "       [-1.57944531],\n",
              "       [-1.96166053],\n",
              "       [-1.75794688],\n",
              "       [-1.29505298],\n",
              "       [-0.12622069],\n",
              "       [-0.02537235],\n",
              "       [-1.25471365],\n",
              "       [-1.87291399],\n",
              "       [-1.79223532],\n",
              "       [-1.46044427],\n",
              "       [-0.52860558],\n",
              "       [ 0.30339325],\n",
              "       [ 0.37499558],\n",
              "       [-0.38540093],\n",
              "       [-1.25067971],\n",
              "       [-1.4342237 ],\n",
              "       [-1.0570509 ],\n",
              "       [-0.73635316],\n",
              "       [ 0.05934026],\n",
              "       [ 0.17128192],\n",
              "       [-1.01772004],\n",
              "       [-1.52498721],\n",
              "       [-1.82248982],\n",
              "       [-1.51691934],\n",
              "       [-1.16697559],\n",
              "       [-0.45700325],\n",
              "       [ 0.06034874],\n",
              "       [-1.27488332],\n",
              "       [-1.8053456 ],\n",
              "       [-1.77811655],\n",
              "       [-1.55019929],\n",
              "       [-0.87653236],\n",
              "       [ 0.16422254],\n",
              "       [-1.0873054 ],\n",
              "       [-1.5986065 ],\n",
              "       [-1.95560963],\n",
              "       [-1.94451631],\n",
              "       [-1.95460115],\n",
              "       [-1.36060441],\n",
              "       [-0.46809657],\n",
              "       [-0.35918036],\n",
              "       [-1.12260232],\n",
              "       [-1.19521313],\n",
              "       [-1.42615583],\n",
              "       [-1.65407309],\n",
              "       [-0.90678686],\n",
              "       [-0.20992481],\n",
              "       [-0.99956734],\n",
              "       [-0.96326194],\n",
              "       [-1.04797454],\n",
              "       [-1.40699465],\n",
              "       [-1.76198081],\n",
              "       [-1.02477943],\n",
              "       [-0.27245079],\n",
              "       [-0.20387391],\n",
              "       [-1.45439337],\n",
              "       [-1.89610911],\n",
              "       [-1.86585461],\n",
              "       [-1.87190551],\n",
              "       [-1.37169773],\n",
              "       [-0.56591947],\n",
              "       [-0.43078269],\n",
              "       [-1.57641986],\n",
              "       [-1.87997337],\n",
              "       [-1.78820138],\n",
              "       [-1.74281963],\n",
              "       [-1.39388436],\n",
              "       [-0.81703184],\n",
              "       [-0.82913364],\n",
              "       [-1.14983137],\n",
              "       [-1.88400731],\n",
              "       [-1.50784299],\n",
              "       [-1.38379953],\n",
              "       [-0.83115061],\n",
              "       [-0.0828559 ],\n",
              "       [-0.15445823],\n",
              "       [-0.97637222],\n",
              "       [-1.27185787],\n",
              "       [-1.14983137],\n",
              "       [-1.24765426],\n",
              "       [-0.60928425],\n",
              "       [-0.43985904],\n",
              "       [-0.45902022]])>"
            ]
          },
          "metadata": {},
          "execution_count": 57
        }
      ]
    },
    {
      "cell_type": "code",
      "source": [
        "# Define the RNN model\n",
        "\n",
        "'''\n",
        "from tensorflow.keras.models import Sequential\n",
        "from tensorflow.keras.layers import SimpleRNN, Dense, Bidirectional\n",
        "\n",
        "model = Sequential([\n",
        "    Bidirectional(SimpleRNN(320, return_sequences=True), input_shape=(10, 5)),\n",
        "    Bidirectional(SimpleRNN(320, return_sequences=False)),\n",
        "    Dense(320, activation='relu'),\n",
        "    Dense(1)\n",
        "])\n",
        "'''\n",
        "\n",
        "\n",
        "#'''\n",
        "from tensorflow.keras.models import Sequential\n",
        "from tensorflow.keras.layers import SimpleRNN, Dense, LSTM, Dropout\n",
        "\n",
        "# Define the RNN model\n",
        "\n",
        "model = Sequential([\n",
        "    LSTM(50, input_shape=(7, 4), return_sequences=True),  # LSTM layer with return_sequences=True to return sequences\n",
        "    Dropout(0.2),  # Dropout layer to prevent overfitting\n",
        "    LSTM(50, return_sequences=False),  # Another LSTM layer without returning sequences\n",
        "    Dropout(0.2),  # Dropout layer\n",
        "    Dense(10, activation='relu'),  # Dense layer with ReLU activation\n",
        "    Dense(1)  # Output layer\n",
        "])\n",
        "#'''\n",
        "\n",
        "'''\n",
        "from tensorflow.keras.models import Sequential\n",
        "from tensorflow.keras.layers import SimpleRNN, Dense, LSTM, Dropout\n",
        "\n",
        "model = Sequential()\n",
        "\n",
        "# Adding the first LSTM layer and some Dropout regularisation\n",
        "layer_1_units=40\n",
        "model.add(LSTM(units = layer_1_units, return_sequences = True, input_shape = (10,5)))\n",
        "model.add(Dropout(0.2))\n",
        "\n",
        "# Adding a second LSTM layer and some Dropout regularisation\n",
        "layer_2_units=300\n",
        "model.add(LSTM(units = layer_2_units, return_sequences = True))\n",
        "model.add(Dropout(0.2))\n",
        "\n",
        "# Adding a third LSTM layer and some Dropout regularisation\n",
        "layer_3_units=300\n",
        "model.add(LSTM(units = layer_3_units))\n",
        "model.add(Dropout(0.2))\n",
        "\n",
        "# Adding the output layer\n",
        "model.add(Dense(units = 1))\n",
        "'''\n",
        "\n",
        "# Compile the model\n",
        "model.compile(optimizer='adam', loss='mean_absolute_error')\n",
        "\n",
        "# Train the model\n",
        "model.fit(dataset, epochs=100)"
      ],
      "metadata": {
        "id": "UfdWYDztUgNa",
        "colab": {
          "base_uri": "https://localhost:8080/"
        },
        "outputId": "4ac96ee1-6c1d-4b83-8cfd-93178cfecb8d"
      },
      "execution_count": 77,
      "outputs": [
        {
          "output_type": "stream",
          "name": "stdout",
          "text": [
            "Epoch 1/100\n",
            "15/15 [==============================] - 4s 27ms/step - loss: 0.7684\n",
            "Epoch 2/100\n",
            "15/15 [==============================] - 0s 27ms/step - loss: 0.6785\n",
            "Epoch 3/100\n",
            "15/15 [==============================] - 0s 25ms/step - loss: 0.6013\n",
            "Epoch 4/100\n",
            "15/15 [==============================] - 0s 27ms/step - loss: 0.4942\n",
            "Epoch 5/100\n",
            "15/15 [==============================] - 0s 26ms/step - loss: 0.4308\n",
            "Epoch 6/100\n",
            "15/15 [==============================] - 0s 28ms/step - loss: 0.4666\n",
            "Epoch 7/100\n",
            "15/15 [==============================] - 0s 27ms/step - loss: 0.4818\n",
            "Epoch 8/100\n",
            "15/15 [==============================] - 0s 26ms/step - loss: 0.4627\n",
            "Epoch 9/100\n",
            "15/15 [==============================] - 1s 39ms/step - loss: 0.4079\n",
            "Epoch 10/100\n",
            "15/15 [==============================] - 1s 43ms/step - loss: 0.4010\n",
            "Epoch 11/100\n",
            "15/15 [==============================] - 1s 33ms/step - loss: 0.3998\n",
            "Epoch 12/100\n",
            "15/15 [==============================] - 0s 26ms/step - loss: 0.3912\n",
            "Epoch 13/100\n",
            "15/15 [==============================] - 0s 29ms/step - loss: 0.3813\n",
            "Epoch 14/100\n",
            "15/15 [==============================] - 0s 27ms/step - loss: 0.3853\n",
            "Epoch 15/100\n",
            "15/15 [==============================] - 0s 29ms/step - loss: 0.3835\n",
            "Epoch 16/100\n",
            "15/15 [==============================] - 0s 26ms/step - loss: 0.3804\n",
            "Epoch 17/100\n",
            "15/15 [==============================] - 0s 27ms/step - loss: 0.3880\n",
            "Epoch 18/100\n",
            "15/15 [==============================] - 0s 27ms/step - loss: 0.3976\n",
            "Epoch 19/100\n",
            "15/15 [==============================] - 0s 27ms/step - loss: 0.4093\n",
            "Epoch 20/100\n",
            "15/15 [==============================] - 0s 28ms/step - loss: 0.3886\n",
            "Epoch 21/100\n",
            "15/15 [==============================] - 0s 27ms/step - loss: 0.3812\n",
            "Epoch 22/100\n",
            "15/15 [==============================] - 0s 29ms/step - loss: 0.3803\n",
            "Epoch 23/100\n",
            "15/15 [==============================] - 0s 26ms/step - loss: 0.3810\n",
            "Epoch 24/100\n",
            "15/15 [==============================] - 0s 26ms/step - loss: 0.3805\n",
            "Epoch 25/100\n",
            "15/15 [==============================] - 0s 27ms/step - loss: 0.3899\n",
            "Epoch 26/100\n",
            "15/15 [==============================] - 0s 29ms/step - loss: 0.3828\n",
            "Epoch 27/100\n",
            "15/15 [==============================] - 0s 27ms/step - loss: 0.3940\n",
            "Epoch 28/100\n",
            "15/15 [==============================] - 0s 30ms/step - loss: 0.3844\n",
            "Epoch 29/100\n",
            "15/15 [==============================] - 0s 28ms/step - loss: 0.3920\n",
            "Epoch 30/100\n",
            "15/15 [==============================] - 1s 43ms/step - loss: 0.3812\n",
            "Epoch 31/100\n",
            "15/15 [==============================] - 1s 45ms/step - loss: 0.3791\n",
            "Epoch 32/100\n",
            "15/15 [==============================] - 1s 41ms/step - loss: 0.3759\n",
            "Epoch 33/100\n",
            "15/15 [==============================] - 0s 27ms/step - loss: 0.3780\n",
            "Epoch 34/100\n",
            "15/15 [==============================] - 0s 27ms/step - loss: 0.3706\n",
            "Epoch 35/100\n",
            "15/15 [==============================] - 0s 27ms/step - loss: 0.3739\n",
            "Epoch 36/100\n",
            "15/15 [==============================] - 0s 28ms/step - loss: 0.3764\n",
            "Epoch 37/100\n",
            "15/15 [==============================] - 0s 27ms/step - loss: 0.3755\n",
            "Epoch 38/100\n",
            "15/15 [==============================] - 0s 30ms/step - loss: 0.3765\n",
            "Epoch 39/100\n",
            "15/15 [==============================] - 0s 25ms/step - loss: 0.3788\n",
            "Epoch 40/100\n",
            "15/15 [==============================] - 0s 28ms/step - loss: 0.3776\n",
            "Epoch 41/100\n",
            "15/15 [==============================] - 0s 28ms/step - loss: 0.3895\n",
            "Epoch 42/100\n",
            "15/15 [==============================] - 0s 27ms/step - loss: 0.3809\n",
            "Epoch 43/100\n",
            "15/15 [==============================] - 0s 30ms/step - loss: 0.3846\n",
            "Epoch 44/100\n",
            "15/15 [==============================] - 0s 26ms/step - loss: 0.3742\n",
            "Epoch 45/100\n",
            "15/15 [==============================] - 0s 27ms/step - loss: 0.3743\n",
            "Epoch 46/100\n",
            "15/15 [==============================] - 0s 27ms/step - loss: 0.3737\n",
            "Epoch 47/100\n",
            "15/15 [==============================] - 0s 26ms/step - loss: 0.3797\n",
            "Epoch 48/100\n",
            "15/15 [==============================] - 0s 26ms/step - loss: 0.3732\n",
            "Epoch 49/100\n",
            "15/15 [==============================] - 0s 27ms/step - loss: 0.3745\n",
            "Epoch 50/100\n",
            "15/15 [==============================] - 0s 29ms/step - loss: 0.3736\n",
            "Epoch 51/100\n",
            "15/15 [==============================] - 1s 35ms/step - loss: 0.3771\n",
            "Epoch 52/100\n",
            "15/15 [==============================] - 1s 41ms/step - loss: 0.3710\n",
            "Epoch 53/100\n",
            "15/15 [==============================] - 1s 39ms/step - loss: 0.3848\n",
            "Epoch 54/100\n",
            "15/15 [==============================] - 0s 29ms/step - loss: 0.3799\n",
            "Epoch 55/100\n",
            "15/15 [==============================] - 0s 29ms/step - loss: 0.3906\n",
            "Epoch 56/100\n",
            "15/15 [==============================] - 0s 27ms/step - loss: 0.3732\n",
            "Epoch 57/100\n",
            "15/15 [==============================] - 0s 28ms/step - loss: 0.3766\n",
            "Epoch 58/100\n",
            "15/15 [==============================] - 0s 27ms/step - loss: 0.3715\n",
            "Epoch 59/100\n",
            "15/15 [==============================] - 0s 30ms/step - loss: 0.3733\n",
            "Epoch 60/100\n",
            "15/15 [==============================] - 0s 27ms/step - loss: 0.3700\n",
            "Epoch 61/100\n",
            "15/15 [==============================] - 0s 27ms/step - loss: 0.3773\n",
            "Epoch 62/100\n",
            "15/15 [==============================] - 0s 28ms/step - loss: 0.3960\n",
            "Epoch 63/100\n",
            "15/15 [==============================] - 0s 28ms/step - loss: 0.3832\n",
            "Epoch 64/100\n",
            "15/15 [==============================] - 0s 26ms/step - loss: 0.3823\n",
            "Epoch 65/100\n",
            "15/15 [==============================] - 0s 29ms/step - loss: 0.3717\n",
            "Epoch 66/100\n",
            "15/15 [==============================] - 0s 27ms/step - loss: 0.3727\n",
            "Epoch 67/100\n",
            "15/15 [==============================] - 0s 26ms/step - loss: 0.3705\n",
            "Epoch 68/100\n",
            "15/15 [==============================] - 0s 29ms/step - loss: 0.3710\n",
            "Epoch 69/100\n",
            "15/15 [==============================] - 0s 27ms/step - loss: 0.3679\n",
            "Epoch 70/100\n",
            "15/15 [==============================] - 0s 26ms/step - loss: 0.3670\n",
            "Epoch 71/100\n",
            "15/15 [==============================] - 0s 28ms/step - loss: 0.3647\n",
            "Epoch 72/100\n",
            "15/15 [==============================] - 0s 27ms/step - loss: 0.3705\n",
            "Epoch 73/100\n",
            "15/15 [==============================] - 1s 53ms/step - loss: 0.3671\n",
            "Epoch 74/100\n",
            "15/15 [==============================] - 1s 43ms/step - loss: 0.3669\n",
            "Epoch 75/100\n",
            "15/15 [==============================] - 0s 29ms/step - loss: 0.3679\n",
            "Epoch 76/100\n",
            "15/15 [==============================] - 0s 26ms/step - loss: 0.3698\n",
            "Epoch 77/100\n",
            "15/15 [==============================] - 0s 30ms/step - loss: 0.3680\n",
            "Epoch 78/100\n",
            "15/15 [==============================] - 0s 26ms/step - loss: 0.3659\n",
            "Epoch 79/100\n",
            "15/15 [==============================] - 0s 29ms/step - loss: 0.3691\n",
            "Epoch 80/100\n",
            "15/15 [==============================] - 0s 27ms/step - loss: 0.3706\n",
            "Epoch 81/100\n",
            "15/15 [==============================] - 0s 29ms/step - loss: 0.3681\n",
            "Epoch 82/100\n",
            "15/15 [==============================] - 0s 29ms/step - loss: 0.3796\n",
            "Epoch 83/100\n",
            "15/15 [==============================] - 0s 27ms/step - loss: 0.3692\n",
            "Epoch 84/100\n",
            "15/15 [==============================] - 0s 29ms/step - loss: 0.3745\n",
            "Epoch 85/100\n",
            "15/15 [==============================] - 0s 26ms/step - loss: 0.3664\n",
            "Epoch 86/100\n",
            "15/15 [==============================] - 0s 29ms/step - loss: 0.3704\n",
            "Epoch 87/100\n",
            "15/15 [==============================] - 0s 28ms/step - loss: 0.3678\n",
            "Epoch 88/100\n",
            "15/15 [==============================] - 0s 28ms/step - loss: 0.3649\n",
            "Epoch 89/100\n",
            "15/15 [==============================] - 0s 28ms/step - loss: 0.3666\n",
            "Epoch 90/100\n",
            "15/15 [==============================] - 0s 29ms/step - loss: 0.3747\n",
            "Epoch 91/100\n",
            "15/15 [==============================] - 0s 29ms/step - loss: 0.3727\n",
            "Epoch 92/100\n",
            "15/15 [==============================] - 0s 27ms/step - loss: 0.3839\n",
            "Epoch 93/100\n",
            "15/15 [==============================] - 1s 43ms/step - loss: 0.3716\n",
            "Epoch 94/100\n",
            "15/15 [==============================] - 1s 41ms/step - loss: 0.3872\n",
            "Epoch 95/100\n",
            "15/15 [==============================] - 0s 27ms/step - loss: 0.3698\n",
            "Epoch 96/100\n",
            "15/15 [==============================] - 0s 25ms/step - loss: 0.3729\n",
            "Epoch 97/100\n",
            "15/15 [==============================] - 0s 26ms/step - loss: 0.3631\n",
            "Epoch 98/100\n",
            "15/15 [==============================] - 0s 28ms/step - loss: 0.3649\n",
            "Epoch 99/100\n",
            "15/15 [==============================] - 0s 27ms/step - loss: 0.3662\n",
            "Epoch 100/100\n",
            "15/15 [==============================] - 0s 29ms/step - loss: 0.3677\n"
          ]
        },
        {
          "output_type": "execute_result",
          "data": {
            "text/plain": [
              "<keras.src.callbacks.History at 0x7c60b3115b40>"
            ]
          },
          "metadata": {},
          "execution_count": 77
        }
      ]
    },
    {
      "cell_type": "code",
      "source": [
        "# Make predictions\n",
        "predictions = model.predict(dataset)\n",
        "predictions = scaler.inverse_transform(predictions.reshape(-1, 1))\n",
        "\n",
        "print(\"Predictions:\")\n",
        "print(predictions)"
      ],
      "metadata": {
        "id": "Q6PjuYJj27kq",
        "colab": {
          "base_uri": "https://localhost:8080/"
        },
        "outputId": "0bb6ff4f-557e-4c27-e916-320ef90b621f"
      },
      "execution_count": 78,
      "outputs": [
        {
          "output_type": "stream",
          "name": "stdout",
          "text": [
            "15/15 [==============================] - 1s 18ms/step\n",
            "Predictions:\n",
            "[[3977.936 ]\n",
            " [3777.3542]\n",
            " [2846.1462]\n",
            " ...\n",
            " [5595.1772]\n",
            " [5803.1045]\n",
            " [4251.5645]]\n"
          ]
        }
      ]
    },
    {
      "cell_type": "code",
      "source": [
        "# Flatten the array of arrays into a single list\n",
        "flat_data = [item for sublist in predictions for item in sublist]\n",
        "\n",
        "# Count the frequency of each item\n",
        "unique_items, frequencies = np.unique(flat_data, return_counts=True)\n",
        "\n",
        "print(unique_items)\n",
        "print(frequencies)\n",
        "\n",
        "# Assuming you have a list of data points called 'data'\n",
        "plt.hist(predictions, bins='auto', edgecolor='black')  # 'auto' for automatic bin size determination\n",
        "plt.xlabel('Valor da Venda')\n",
        "plt.ylabel('Frequency')\n",
        "plt.title('Previsões das Vendas')\n",
        "plt.grid(True)  # Add grid lines\n",
        "plt.show()"
      ],
      "metadata": {
        "id": "U8h3qSBm40mP",
        "colab": {
          "base_uri": "https://localhost:8080/",
          "height": 507
        },
        "outputId": "2c19b21a-c4a7-45d9-f3ff-f01a7513d2e2"
      },
      "execution_count": 79,
      "outputs": [
        {
          "output_type": "stream",
          "name": "stdout",
          "text": [
            "[2284.725  2291.0186 2309.9043 ... 5855.757  5859.077  5878.167 ]\n",
            "[1 1 1 ... 1 1 1]\n"
          ]
        },
        {
          "output_type": "display_data",
          "data": {
            "text/plain": [
              "<Figure size 640x480 with 1 Axes>"
            ],
            "image/png": "[encoded data removed]"
          },
          "metadata": {}
        }
      ]
    },
    {
      "cell_type": "code",
      "source": [
        "from statsmodels.tsa.seasonal import seasonal_decompose\n",
        "\n",
        "decomposition = seasonal_decompose(predictions, model='additive', period=365)\n",
        "decomposition.plot()\n",
        "plt.show()"
      ],
      "metadata": {
        "id": "n9A8PpQq0I2g",
        "outputId": "f7587e2d-13aa-4861-8414-3a5ac156e985",
        "colab": {
          "base_uri": "https://localhost:8080/",
          "height": 487
        }
      },
      "execution_count": 80,
      "outputs": [
        {
          "output_type": "display_data",
          "data": {
            "text/plain": [
              "<Figure size 640x480 with 4 Axes>"
            ],
            "image/png": "[encoded data removed]"
          },
          "metadata": {}
        }
      ]
    },
    {
      "cell_type": "markdown",
      "source": [
        "### Monte-Carlo dropout"
      ],
      "metadata": {
        "id": "vzW6noaeWdGE"
      }
    },
    {
      "cell_type": "code",
      "source": [
        "from keras.models import Model\n",
        "from keras.layers import Input, LSTM, Dropout, Dense, Lambda\n",
        "import keras.backend as K\n",
        "import numpy as np\n",
        "\n",
        "# Função para amostrar usando Monte Carlo Dropout\n",
        "def mc_dropout(x):\n",
        "    # Aplicar dropout\n",
        "    output_with_dropout = K.dropout(x, level=dropout_rate)\n",
        "    return output_with_dropout\n",
        "\n",
        "# Definindo parâmetros de Monte Carlo Dropout\n",
        "num_samples = 10  # Número de amostras de dropout\n",
        "dropout_rate = 0.2  # Taxa de dropout\n",
        "\n",
        "# Input\n",
        "inputs = Input(shape=(7, 5))\n",
        "\n",
        "# LSTM com Monte Carlo Dropout\n",
        "lstm_output = LSTM(320, return_sequences=True)(inputs)\n",
        "lstm_output_dropout = Lambda(mc_dropout)(lstm_output)\n",
        "dropout_layer = Dropout(0.2)(lstm_output_dropout)\n",
        "\n",
        "# LSTM com Monte Carlo Dropout\n",
        "lstm_output2 = LSTM(320, return_sequences=False)(dropout_layer)\n",
        "lstm_output2_dropout = Lambda(mc_dropout)(lstm_output2)\n",
        "dropout_layer2 = Dropout(0.2)(lstm_output2_dropout)\n",
        "\n",
        "# Camadas densas\n",
        "dense_output = Dense(320, activation='relu')(dropout_layer2)\n",
        "dense_output_dropout = Lambda(mc_dropout)(dense_output)\n",
        "dropout_layer3 = Dropout(0.2)(dense_output_dropout)\n",
        "\n",
        "# Camada de saída\n",
        "output = Dense(1)(dropout_layer3)\n",
        "\n",
        "# Modelo final\n",
        "model = Model(inputs=inputs, outputs=output)"
      ],
      "metadata": {
        "id": "AsyRCTk0VvEH"
      },
      "execution_count": null,
      "outputs": []
    },
    {
      "cell_type": "code",
      "source": [
        "# Compile the model\n",
        "model.compile(optimizer='adam', loss='mean_absolute_error')\n",
        "\n",
        "import numpy as np\n",
        "\n",
        "# Train the model with Monte Carlo Dropout\n",
        "def train_with_mc_dropout(model, dataset, num_epochs, num_samples):\n",
        "    for epoch in range(num_epochs):\n",
        "        # Inicialize as listas para armazenar as previsões de cada amostra\n",
        "        predictions = []\n",
        "        x_train = []\n",
        "        y_train = []\n",
        "\n",
        "        max_batch_size = max(len(batch_data) for batch_data, _ in dataset)\n",
        "\n",
        "        for _ in range(num_samples):\n",
        "            # Realize uma amostragem com dropout ativado\n",
        "            preds = []\n",
        "            for batch_data, batch_labels in dataset:\n",
        "                # Preencha os lotes com zeros para igualar o tamanho\n",
        "                padded_batch_data = np.zeros((max_batch_size, batch_data.shape[1], batch_data.shape[2]))\n",
        "                padded_batch_labels = np.zeros((max_batch_size, batch_labels.shape[1]))\n",
        "                padded_batch_data[:batch_data.shape[0], :, :] = batch_data\n",
        "                padded_batch_labels[:batch_labels.shape[0], :] = batch_labels\n",
        "\n",
        "                pred = model.predict(padded_batch_data)\n",
        "                preds.append(pred)\n",
        "                x_train.append(padded_batch_data)\n",
        "                y_train.append(padded_batch_labels)\n",
        "            predictions.append(np.vstack(preds))  # Empilha os resultados das previsões em um array\n",
        "\n",
        "        # Calcule a média e variância das previsões\n",
        "        mean_predictions = np.mean(predictions, axis=0)\n",
        "        variance_predictions = np.var(predictions, axis=0)\n",
        "\n",
        "        # Converta os dados de entrada e saída em numpy arrays\n",
        "        x_train = np.vstack(x_train)\n",
        "        y_train = np.vstack(y_train)\n",
        "\n",
        "        # Treine o modelo com os dados e alvos do conjunto de dados\n",
        "        model.train_on_batch(x_train, mean_predictions)\n",
        "\n",
        "        # Print progresso do treinamento\n",
        "        if epoch % 10 == 0:\n",
        "            print(\"Epoch {}/{} - Loss: {:.4f}\".format(epoch+1, num_epochs, np.mean(np.abs(mean_predictions - y_train))))\n",
        "\n",
        "# Train the model\n",
        "num_epochs = 30\n",
        "num_samples = 10\n",
        "train_with_mc_dropout(model, dataset, num_epochs, num_samples)"
      ],
      "metadata": {
        "id": "wAud96HnVvSm"
      },
      "execution_count": null,
      "outputs": []
    },
    {
      "cell_type": "markdown",
      "source": [
        "# IGNORAR\n",
        "\n",
        "A partir daqui, tem apenas código auxiliar para ajudar a obter uma versão reduzida dos dados. Por isso, irá ficar tudo em comentário.\n",
        "\n",
        "\n",
        "\n"
      ],
      "metadata": {
        "id": "NzhduHH0HyJE"
      }
    },
    {
      "cell_type": "code",
      "source": [
        "'''\n",
        "\n",
        "# (Prices preços) Reduzir os dados para apenas de uma loja\n",
        "\n",
        "df_prices = pd.read_csv('sell_prices.csv')\n",
        "\n",
        "csv_path = \"df_prices_Loja1.csv\"\n",
        "id_loja = \"CA_1\"\n",
        "coluna = \"store_id\"\n",
        "\n",
        "# Ler o arquivo CSV existente, se houver\n",
        "try:\n",
        "    df_existing = pd.read_csv(csv_path)\n",
        "except FileNotFoundError:\n",
        "    df_existing = pd.DataFrame()\n",
        "\n",
        "index = 0\n",
        "still_searching = True\n",
        "\n",
        "while still_searching:\n",
        "    actual_price = df_prices.iloc[index]\n",
        "    loja = actual_price[coluna]\n",
        "    if loja == id_loja:\n",
        "        print(index, end=' ')\n",
        "        # Adicionar a linha ao dataframe existente\n",
        "        df_existing = pd.concat([df_existing, actual_price], ignore_index=True)\n",
        "        index = index + 1\n",
        "        continue\n",
        "    still_searching = False\n",
        "\n",
        "# Salvar o dataframe resultante no arquivo CSV, adicionando ao final do arquivo\n",
        "df_existing.to_csv(csv_path, mode='a', index=False, header=not any(df_existing))\n",
        "\n",
        "'''"
      ],
      "metadata": {
        "id": "lJvfgibNNrKn"
      },
      "execution_count": null,
      "outputs": []
    }
  ]
}