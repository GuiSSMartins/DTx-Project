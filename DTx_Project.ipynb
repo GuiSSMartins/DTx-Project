{
  "nbformat": 4,
  "nbformat_minor": 0,
  "metadata": {
    "colab": {
      "provenance": [],
      "gpuType": "T4",
      "include_colab_link": true
    },
    "kernelspec": {
      "name": "python3",
      "display_name": "Python 3"
    },
    "language_info": {
      "name": "python"
    },
    "accelerator": "GPU"
  },
  "cells": [
    {
      "cell_type": "markdown",
      "metadata": {
        "id": "view-in-github",
        "colab_type": "text"
      },
      "source": [
        "<a href=\"https://colab.research.google.com/github/GuiSSMartins/DTx-Project/blob/main/DTx_Project.ipynb\" target=\"_parent\"><img src=\"https://colab.research.google.com/assets/colab-badge.svg\" alt=\"Open In Colab\"/></a>"
      ]
    },
    {
      "cell_type": "code",
      "execution_count": 1,
      "metadata": {
        "id": "yhdow6jv8LYI"
      },
      "outputs": [],
      "source": [
        "from graphviz import Digraph # para representação gráfica de grafos direcionados (utiliza linguagem dot)\n",
        "import matplotlib.image as mpimg # operações relacionadas a imagens\n",
        "import pandas as pd\n",
        "import numpy as np\n",
        "import matplotlib.pyplot as plt\n",
        "import gc #importing garbage collector\n",
        "import time"
      ]
    },
    {
      "cell_type": "code",
      "source": [
        "# df_prices = pd.read_csv('sell_prices.csv')\n",
        "\n",
        "# função para reduzir a dimensão de um dataset\n",
        "def reduce_mem_usage(df, verbose=True):\n",
        "    numerics = ['int8','int16', 'int32', 'int64', 'float16', 'float32', 'float64']\n",
        "    start_mem = df.memory_usage().sum() / 1024**2\n",
        "    for col in df.columns:\n",
        "        col_type = df[col].dtypes\n",
        "        if col_type in numerics:\n",
        "            c_min = df[col].min()\n",
        "            c_max = df[col].max()\n",
        "            if str(col_type)[:3] == 'int':\n",
        "                if c_min > np.iinfo(np.int8).min and c_max < np.iinfo(np.int8).max:\n",
        "                    df[col] = df[col].astype(np.int8)\n",
        "                elif c_min > np.iinfo(np.int16).min and c_max < np.iinfo(np.int16).max:\n",
        "                    df[col] = df[col].astype(np.int16)\n",
        "                elif c_min > np.iinfo(np.int32).min and c_max < np.iinfo(np.int32).max:\n",
        "                    df[col] = df[col].astype(np.int32)\n",
        "                elif c_min > np.iinfo(np.int64).min and c_max < np.iinfo(np.int64).max:\n",
        "                    df[col] = df[col].astype(np.int64)\n",
        "            else:\n",
        "                if c_min > np.finfo(np.float16).min and c_max < np.finfo(np.float16).max:\n",
        "                    df[col] = df[col].astype(np.float16)\n",
        "                elif c_min > np.finfo(np.float32).min and c_max < np.finfo(np.float32).max:\n",
        "                    df[col] = df[col].astype(np.float32)\n",
        "                else:\n",
        "                    df[col] = df[col].astype(np.float64)\n",
        "    end_mem = df.memory_usage().sum() / 1024**2\n",
        "    if verbose: print('Mem. usage decreased to {:5.2f} Mb ({:.1f}% reduction)'.format(end_mem, 100 * (start_mem - end_mem) / start_mem))\n",
        "    return df\n",
        "\n",
        "# diminuir o tamanho dos datasets\n",
        "#df_prices = reduce_mem_usage(df_prices)"
      ],
      "metadata": {
        "id": "nAh1SqMI2Mqm"
      },
      "execution_count": 2,
      "outputs": []
    },
    {
      "cell_type": "code",
      "source": [
        "# Represenção do digrafo, aplicando cores e percentagens nas arrestas\n",
        "dot = Digraph(comment='Grafo para descrever a Estrutura do Dados')\n",
        "\n",
        "dot.node('A', f'Total de estados', color='lightblue2', style='filled')\n",
        "dot.node('B', f'Estado CA', color='lightblue2', style='filled')\n",
        "dot.node('C', f'Estado TX', color='lightblue2', style='filled')\n",
        "dot.node('D', f'Estado W', color='lightblue2', style='filled')\n",
        "dot.node('E', f'LOJA 1', color='lightblue2', style='filled')\n",
        "dot.node('F', f'LOJA 2', color='lightblue2', style='filled')\n",
        "dot.node('G', f'LOJA 3', color='lightblue2', style='filled')\n",
        "dot.node('H', f'LOJA 4', color='lightblue2', style='filled')\n",
        "dot.node('I', f'LOJA 1', color='lightblue2', style='filled')\n",
        "dot.node('J', f'LOJA 2', color='lightblue2', style='filled')\n",
        "dot.node('K', f'LOJA 3', color='lightblue2', style='filled')\n",
        "dot.node('L', f'LOJA 1', color='lightblue2', style='filled')\n",
        "dot.node('M', f'LOJA 2', color='lightblue2', style='filled')\n",
        "dot.node('N', f'LOJA 3', color='lightblue2', style='filled')\n",
        "dot.node('JA', f'CATEGORY HOBBIES', color='lightblue2', style='filled')\n",
        "dot.node('JB', f'CATEGORY FOOD', color='lightblue2', style='filled')\n",
        "dot.node('JC', f'CATEGORY HOUSEHOLD', color='lightblue2', style='filled')\n",
        "dot.node('JAA', f'DEPARTAMENT HOBBIES 1', color='lightblue2', style='filled')\n",
        "dot.node('JAB', f'DEPARTAMENT HOBBIES 2', color='lightblue2', style='filled')\n",
        "dot.node('JBA', f'DEPARTAMENT FOOD 1', color='lightblue2', style='filled')\n",
        "dot.node('JBB', f'DEPARTAMENT FOOD 2', color='lightblue2', style='filled')\n",
        "dot.node('JBC', f'DEPARTAMENT FOOD 3', color='lightblue2', style='filled')\n",
        "dot.node('JCA', f'DEPARTAMENT HOUSEHOLD 1', color='lightblue2', style='filled')\n",
        "dot.node('JCB', f'DEPARTAMENT HOUSEHOLD 2', color='lightblue2', style='filled')\n",
        "\n",
        "\n",
        "dot.edge('A', 'B')\n",
        "dot.edge('A', 'C')\n",
        "dot.edge('A', 'D')\n",
        "dot.edge('B', 'E')\n",
        "dot.edge('B', 'F')\n",
        "dot.edge('B', 'G')\n",
        "dot.edge('B', 'H')\n",
        "dot.edge('C', 'I')\n",
        "dot.edge('C', 'J')\n",
        "dot.edge('C', 'K')\n",
        "dot.edge('D', 'L')\n",
        "dot.edge('D', 'M')\n",
        "dot.edge('D', 'N')\n",
        "dot.edge('J', 'JA')\n",
        "dot.edge('J', 'JB')\n",
        "dot.edge('J', 'JC')\n",
        "dot.edge('JA', 'JAA')\n",
        "dot.edge('JA', 'JAB')\n",
        "dot.edge('JB', 'JBA')\n",
        "dot.edge('JB', 'JBB')\n",
        "dot.edge('JB', 'JBC')\n",
        "dot.edge('JC', 'JCA')\n",
        "dot.edge('JC', 'JCB')\n",
        "\n",
        "dot.render('/content/drive/MyDrive/Save/patient_dot', format='png', cleanup=True)"
      ],
      "metadata": {
        "colab": {
          "base_uri": "https://localhost:8080/",
          "height": 36
        },
        "id": "tmTh-rLHbim2",
        "outputId": "aa0c8363-3d17-41fe-8181-8529ad0e3bd3"
      },
      "execution_count": 3,
      "outputs": [
        {
          "output_type": "execute_result",
          "data": {
            "text/plain": [
              "'/content/drive/MyDrive/Save/patient_dot.png'"
            ],
            "application/vnd.google.colaboratory.intrinsic+json": {
              "type": "string"
            }
          },
          "metadata": {},
          "execution_count": 3
        }
      ]
    },
    {
      "cell_type": "code",
      "source": [
        "image = mpimg.imread('/content/drive/MyDrive/Save/patient_dot.png')\n",
        "\n",
        "fig, ax = plt.subplots() #criar uma subparcela única\n",
        "ax.imshow(image) #exibir a imagem na subparcela e desativar os eixos\n",
        "ax.axis('off')\n",
        "#centralizar a imagem na subparcela\n",
        "ax.set_position([0, 0, 1, 1])  # Define a posição da subparcela para cobrir toda a figura\n",
        "#fig.savefig(\"/content/drive/MyDrive/Save/patient_dot.png\")\n",
        "plt.show() #pode nem ser colocado"
      ],
      "metadata": {
        "colab": {
          "base_uri": "https://localhost:8080/",
          "height": 154
        },
        "id": "i-zNoDaXbkoR",
        "outputId": "1a00735a-98d9-45bd-ed52-0a0559a647ca"
      },
      "execution_count": 4,
      "outputs": [
        {
          "output_type": "display_data",
          "data": {
            "text/plain": [
              "<Figure size 640x480 with 1 Axes>"
            ],
            "image/png": "[encoded data removed]"
          },
          "metadata": {}
        }
      ]
    },
    {
      "cell_type": "markdown",
      "source": [
        "### A análise exploratória dos dados e as suas coneções passam a ser feitas no KNIME!!!!!!"
      ],
      "metadata": {
        "id": "FwYed5_4SmVD"
      }
    },
    {
      "cell_type": "markdown",
      "source": [
        "## Decomposição da Série Temporal"
      ],
      "metadata": {
        "id": "BKkI8aOQcoWI"
      }
    },
    {
      "cell_type": "code",
      "source": [
        "df_loja1_serie_temporal_agregada = pd.read_csv('loja1.csv')\n",
        "\n",
        "df_loja1_serie_temporal_agregada = reduce_mem_usage(df_loja1_serie_temporal_agregada)\n",
        "\n",
        "\n",
        "n_periods = 1913\n",
        "\n",
        "# eliminar as colunas indesejadas para a construção da série temporal\n",
        "df_time_series = pd.DataFrame(data={\"Vendas\": df_loja1_serie_temporal_agregada['Vendas_do_dia'].tolist()}, index=df_loja1_serie_temporal_agregada['date'])"
      ],
      "metadata": {
        "colab": {
          "base_uri": "https://localhost:8080/"
        },
        "id": "eUh3x2mkcnqI",
        "outputId": "a8bf9d97-4735-4b11-8872-d746cee8dfbb"
      },
      "execution_count": 5,
      "outputs": [
        {
          "output_type": "stream",
          "name": "stdout",
          "text": [
            "Mem. usage decreased to  0.05 Mb (63.8% reduction)\n"
          ]
        }
      ]
    },
    {
      "cell_type": "code",
      "source": [
        "df_loja1_serie_temporal_agregada"
      ],
      "metadata": {
        "colab": {
          "base_uri": "https://localhost:8080/",
          "height": 617
        },
        "id": "dmYAzjgQexAe",
        "outputId": "a17d7455-132d-4142-ff82-0df1846780ff"
      },
      "execution_count": 6,
      "outputs": [
        {
          "output_type": "execute_result",
          "data": {
            "text/plain": [
              "            date  wm_yr_wk  wday  month  year       d  Vendas_do_dia  \\\n",
              "0     2011-01-29     11101     1      1  2011     d_1           4337   \n",
              "1     2011-01-30     11101     2      1  2011     d_2           4155   \n",
              "2     2011-01-31     11101     3      1  2011     d_3           2816   \n",
              "3     2011-02-01     11101     4      2  2011     d_4           3051   \n",
              "4     2011-02-02     11101     5      2  2011     d_5           2630   \n",
              "...          ...       ...   ...    ...   ...     ...            ...   \n",
              "1908  2016-04-20     11612     5      4  2016  d_1909           3722   \n",
              "1909  2016-04-21     11612     6      4  2016  d_1910           3709   \n",
              "1910  2016-04-22     11612     7      4  2016  d_1911           4387   \n",
              "1911  2016-04-23     11613     1      4  2016  d_1912           5577   \n",
              "1912  2016-04-24     11613     2      4  2016  d_1913           6113   \n",
              "\n",
              "      n_eventos  week_group  \n",
              "0             0           0  \n",
              "1             0           0  \n",
              "2             0           1  \n",
              "3             0           1  \n",
              "4             0           1  \n",
              "...         ...         ...  \n",
              "1908          0           1  \n",
              "1909          0           1  \n",
              "1910          0           1  \n",
              "1911          0           0  \n",
              "1912          0           0  \n",
              "\n",
              "[1913 rows x 9 columns]"
            ],
            "text/html": [
              "\n",
              "  <div id=\"df-155a6e5e-e1c3-4e2a-96a8-1ab5f0904ed1\" class=\"colab-df-container\">\n",
              "    <div>\n",
              "<style scoped>\n",
              "    .dataframe tbody tr th:only-of-type {\n",
              "        vertical-align: middle;\n",
              "    }\n",
              "\n",
              "    .dataframe tbody tr th {\n",
              "        vertical-align: top;\n",
              "    }\n",
              "\n",
              "    .dataframe thead th {\n",
              "        text-align: right;\n",
              "    }\n",
              "</style>\n",
              "<table border=\"1\" class=\"dataframe\">\n",
              "  <thead>\n",
              "    <tr style=\"text-align: right;\">\n",
              "      <th></th>\n",
              "      <th>date</th>\n",
              "      <th>wm_yr_wk</th>\n",
              "      <th>wday</th>\n",
              "      <th>month</th>\n",
              "      <th>year</th>\n",
              "      <th>d</th>\n",
              "      <th>Vendas_do_dia</th>\n",
              "      <th>n_eventos</th>\n",
              "      <th>week_group</th>\n",
              "    </tr>\n",
              "  </thead>\n",
              "  <tbody>\n",
              "    <tr>\n",
              "      <th>0</th>\n",
              "      <td>2011-01-29</td>\n",
              "      <td>11101</td>\n",
              "      <td>1</td>\n",
              "      <td>1</td>\n",
              "      <td>2011</td>\n",
              "      <td>d_1</td>\n",
              "      <td>4337</td>\n",
              "      <td>0</td>\n",
              "      <td>0</td>\n",
              "    </tr>\n",
              "    <tr>\n",
              "      <th>1</th>\n",
              "      <td>2011-01-30</td>\n",
              "      <td>11101</td>\n",
              "      <td>2</td>\n",
              "      <td>1</td>\n",
              "      <td>2011</td>\n",
              "      <td>d_2</td>\n",
              "      <td>4155</td>\n",
              "      <td>0</td>\n",
              "      <td>0</td>\n",
              "    </tr>\n",
              "    <tr>\n",
              "      <th>2</th>\n",
              "      <td>2011-01-31</td>\n",
              "      <td>11101</td>\n",
              "      <td>3</td>\n",
              "      <td>1</td>\n",
              "      <td>2011</td>\n",
              "      <td>d_3</td>\n",
              "      <td>2816</td>\n",
              "      <td>0</td>\n",
              "      <td>1</td>\n",
              "    </tr>\n",
              "    <tr>\n",
              "      <th>3</th>\n",
              "      <td>2011-02-01</td>\n",
              "      <td>11101</td>\n",
              "      <td>4</td>\n",
              "      <td>2</td>\n",
              "      <td>2011</td>\n",
              "      <td>d_4</td>\n",
              "      <td>3051</td>\n",
              "      <td>0</td>\n",
              "      <td>1</td>\n",
              "    </tr>\n",
              "    <tr>\n",
              "      <th>4</th>\n",
              "      <td>2011-02-02</td>\n",
              "      <td>11101</td>\n",
              "      <td>5</td>\n",
              "      <td>2</td>\n",
              "      <td>2011</td>\n",
              "      <td>d_5</td>\n",
              "      <td>2630</td>\n",
              "      <td>0</td>\n",
              "      <td>1</td>\n",
              "    </tr>\n",
              "    <tr>\n",
              "      <th>...</th>\n",
              "      <td>...</td>\n",
              "      <td>...</td>\n",
              "      <td>...</td>\n",
              "      <td>...</td>\n",
              "      <td>...</td>\n",
              "      <td>...</td>\n",
              "      <td>...</td>\n",
              "      <td>...</td>\n",
              "      <td>...</td>\n",
              "    </tr>\n",
              "    <tr>\n",
              "      <th>1908</th>\n",
              "      <td>2016-04-20</td>\n",
              "      <td>11612</td>\n",
              "      <td>5</td>\n",
              "      <td>4</td>\n",
              "      <td>2016</td>\n",
              "      <td>d_1909</td>\n",
              "      <td>3722</td>\n",
              "      <td>0</td>\n",
              "      <td>1</td>\n",
              "    </tr>\n",
              "    <tr>\n",
              "      <th>1909</th>\n",
              "      <td>2016-04-21</td>\n",
              "      <td>11612</td>\n",
              "      <td>6</td>\n",
              "      <td>4</td>\n",
              "      <td>2016</td>\n",
              "      <td>d_1910</td>\n",
              "      <td>3709</td>\n",
              "      <td>0</td>\n",
              "      <td>1</td>\n",
              "    </tr>\n",
              "    <tr>\n",
              "      <th>1910</th>\n",
              "      <td>2016-04-22</td>\n",
              "      <td>11612</td>\n",
              "      <td>7</td>\n",
              "      <td>4</td>\n",
              "      <td>2016</td>\n",
              "      <td>d_1911</td>\n",
              "      <td>4387</td>\n",
              "      <td>0</td>\n",
              "      <td>1</td>\n",
              "    </tr>\n",
              "    <tr>\n",
              "      <th>1911</th>\n",
              "      <td>2016-04-23</td>\n",
              "      <td>11613</td>\n",
              "      <td>1</td>\n",
              "      <td>4</td>\n",
              "      <td>2016</td>\n",
              "      <td>d_1912</td>\n",
              "      <td>5577</td>\n",
              "      <td>0</td>\n",
              "      <td>0</td>\n",
              "    </tr>\n",
              "    <tr>\n",
              "      <th>1912</th>\n",
              "      <td>2016-04-24</td>\n",
              "      <td>11613</td>\n",
              "      <td>2</td>\n",
              "      <td>4</td>\n",
              "      <td>2016</td>\n",
              "      <td>d_1913</td>\n",
              "      <td>6113</td>\n",
              "      <td>0</td>\n",
              "      <td>0</td>\n",
              "    </tr>\n",
              "  </tbody>\n",
              "</table>\n",
              "<p>1913 rows × 9 columns</p>\n",
              "</div>\n",
              "    <div class=\"colab-df-buttons\">\n",
              "\n",
              "  <div class=\"colab-df-container\">\n",
              "    <button class=\"colab-df-convert\" onclick=\"convertToInteractive('df-155a6e5e-e1c3-4e2a-96a8-1ab5f0904ed1')\"\n",
              "            title=\"Convert this dataframe to an interactive table.\"\n",
              "            style=\"display:none;\">\n",
              "\n",
              "  <svg xmlns=\"http://www.w3.org/2000/svg\" height=\"24px\" viewBox=\"0 -960 960 960\">\n",
              "    <path d=\"M120-120v-720h720v720H120Zm60-500h600v-160H180v160Zm220 220h160v-160H400v160Zm0 220h160v-160H400v160ZM180-400h160v-160H180v160Zm440 0h160v-160H620v160ZM180-180h160v-160H180v160Zm440 0h160v-160H620v160Z\"/>\n",
              "  </svg>\n",
              "    </button>\n",
              "\n",
              "  <style>\n",
              "    .colab-df-container {\n",
              "      display:flex;\n",
              "      gap: 12px;\n",
              "    }\n",
              "\n",
              "    .colab-df-convert {\n",
              "      background-color: #E8F0FE;\n",
              "      border: none;\n",
              "      border-radius: 50%;\n",
              "      cursor: pointer;\n",
              "      display: none;\n",
              "      fill: #1967D2;\n",
              "      height: 32px;\n",
              "      padding: 0 0 0 0;\n",
              "      width: 32px;\n",
              "    }\n",
              "\n",
              "    .colab-df-convert:hover {\n",
              "      background-color: #E2EBFA;\n",
              "      box-shadow: 0px 1px 2px rgba(60, 64, 67, 0.3), 0px 1px 3px 1px rgba(60, 64, 67, 0.15);\n",
              "      fill: #174EA6;\n",
              "    }\n",
              "\n",
              "    .colab-df-buttons div {\n",
              "      margin-bottom: 4px;\n",
              "    }\n",
              "\n",
              "    [theme=dark] .colab-df-convert {\n",
              "      background-color: #3B4455;\n",
              "      fill: #D2E3FC;\n",
              "    }\n",
              "\n",
              "    [theme=dark] .colab-df-convert:hover {\n",
              "      background-color: #434B5C;\n",
              "      box-shadow: 0px 1px 3px 1px rgba(0, 0, 0, 0.15);\n",
              "      filter: drop-shadow(0px 1px 2px rgba(0, 0, 0, 0.3));\n",
              "      fill: #FFFFFF;\n",
              "    }\n",
              "  </style>\n",
              "\n",
              "    <script>\n",
              "      const buttonEl =\n",
              "        document.querySelector('#df-155a6e5e-e1c3-4e2a-96a8-1ab5f0904ed1 button.colab-df-convert');\n",
              "      buttonEl.style.display =\n",
              "        google.colab.kernel.accessAllowed ? 'block' : 'none';\n",
              "\n",
              "      async function convertToInteractive(key) {\n",
              "        const element = document.querySelector('#df-155a6e5e-e1c3-4e2a-96a8-1ab5f0904ed1');\n",
              "        const dataTable =\n",
              "          await google.colab.kernel.invokeFunction('convertToInteractive',\n",
              "                                                    [key], {});\n",
              "        if (!dataTable) return;\n",
              "\n",
              "        const docLinkHtml = 'Like what you see? Visit the ' +\n",
              "          '<a target=\"_blank\" href=https://colab.research.google.com/notebooks/data_table.ipynb>data table notebook</a>'\n",
              "          + ' to learn more about interactive tables.';\n",
              "        element.innerHTML = '';\n",
              "        dataTable['output_type'] = 'display_data';\n",
              "        await google.colab.output.renderOutput(dataTable, element);\n",
              "        const docLink = document.createElement('div');\n",
              "        docLink.innerHTML = docLinkHtml;\n",
              "        element.appendChild(docLink);\n",
              "      }\n",
              "    </script>\n",
              "  </div>\n",
              "\n",
              "\n",
              "<div id=\"df-aaf323d0-d83a-41fa-a2df-8fc72e382271\">\n",
              "  <button class=\"colab-df-quickchart\" onclick=\"quickchart('df-aaf323d0-d83a-41fa-a2df-8fc72e382271')\"\n",
              "            title=\"Suggest charts\"\n",
              "            style=\"display:none;\">\n",
              "\n",
              "<svg xmlns=\"http://www.w3.org/2000/svg\" height=\"24px\"viewBox=\"0 0 24 24\"\n",
              "     width=\"24px\">\n",
              "    <g>\n",
              "        <path d=\"M19 3H5c-1.1 0-2 .9-2 2v14c0 1.1.9 2 2 2h14c1.1 0 2-.9 2-2V5c0-1.1-.9-2-2-2zM9 17H7v-7h2v7zm4 0h-2V7h2v10zm4 0h-2v-4h2v4z\"/>\n",
              "    </g>\n",
              "</svg>\n",
              "  </button>\n",
              "\n",
              "<style>\n",
              "  .colab-df-quickchart {\n",
              "      --bg-color: #E8F0FE;\n",
              "      --fill-color: #1967D2;\n",
              "      --hover-bg-color: #E2EBFA;\n",
              "      --hover-fill-color: #174EA6;\n",
              "      --disabled-fill-color: #AAA;\n",
              "      --disabled-bg-color: #DDD;\n",
              "  }\n",
              "\n",
              "  [theme=dark] .colab-df-quickchart {\n",
              "      --bg-color: #3B4455;\n",
              "      --fill-color: #D2E3FC;\n",
              "      --hover-bg-color: #434B5C;\n",
              "      --hover-fill-color: #FFFFFF;\n",
              "      --disabled-bg-color: #3B4455;\n",
              "      --disabled-fill-color: #666;\n",
              "  }\n",
              "\n",
              "  .colab-df-quickchart {\n",
              "    background-color: var(--bg-color);\n",
              "    border: none;\n",
              "    border-radius: 50%;\n",
              "    cursor: pointer;\n",
              "    display: none;\n",
              "    fill: var(--fill-color);\n",
              "    height: 32px;\n",
              "    padding: 0;\n",
              "    width: 32px;\n",
              "  }\n",
              "\n",
              "  .colab-df-quickchart:hover {\n",
              "    background-color: var(--hover-bg-color);\n",
              "    box-shadow: 0 1px 2px rgba(60, 64, 67, 0.3), 0 1px 3px 1px rgba(60, 64, 67, 0.15);\n",
              "    fill: var(--button-hover-fill-color);\n",
              "  }\n",
              "\n",
              "  .colab-df-quickchart-complete:disabled,\n",
              "  .colab-df-quickchart-complete:disabled:hover {\n",
              "    background-color: var(--disabled-bg-color);\n",
              "    fill: var(--disabled-fill-color);\n",
              "    box-shadow: none;\n",
              "  }\n",
              "\n",
              "  .colab-df-spinner {\n",
              "    border: 2px solid var(--fill-color);\n",
              "    border-color: transparent;\n",
              "    border-bottom-color: var(--fill-color);\n",
              "    animation:\n",
              "      spin 1s steps(1) infinite;\n",
              "  }\n",
              "\n",
              "  @keyframes spin {\n",
              "    0% {\n",
              "      border-color: transparent;\n",
              "      border-bottom-color: var(--fill-color);\n",
              "      border-left-color: var(--fill-color);\n",
              "    }\n",
              "    20% {\n",
              "      border-color: transparent;\n",
              "      border-left-color: var(--fill-color);\n",
              "      border-top-color: var(--fill-color);\n",
              "    }\n",
              "    30% {\n",
              "      border-color: transparent;\n",
              "      border-left-color: var(--fill-color);\n",
              "      border-top-color: var(--fill-color);\n",
              "      border-right-color: var(--fill-color);\n",
              "    }\n",
              "    40% {\n",
              "      border-color: transparent;\n",
              "      border-right-color: var(--fill-color);\n",
              "      border-top-color: var(--fill-color);\n",
              "    }\n",
              "    60% {\n",
              "      border-color: transparent;\n",
              "      border-right-color: var(--fill-color);\n",
              "    }\n",
              "    80% {\n",
              "      border-color: transparent;\n",
              "      border-right-color: var(--fill-color);\n",
              "      border-bottom-color: var(--fill-color);\n",
              "    }\n",
              "    90% {\n",
              "      border-color: transparent;\n",
              "      border-bottom-color: var(--fill-color);\n",
              "    }\n",
              "  }\n",
              "</style>\n",
              "\n",
              "  <script>\n",
              "    async function quickchart(key) {\n",
              "      const quickchartButtonEl =\n",
              "        document.querySelector('#' + key + ' button');\n",
              "      quickchartButtonEl.disabled = true;  // To prevent multiple clicks.\n",
              "      quickchartButtonEl.classList.add('colab-df-spinner');\n",
              "      try {\n",
              "        const charts = await google.colab.kernel.invokeFunction(\n",
              "            'suggestCharts', [key], {});\n",
              "      } catch (error) {\n",
              "        console.error('Error during call to suggestCharts:', error);\n",
              "      }\n",
              "      quickchartButtonEl.classList.remove('colab-df-spinner');\n",
              "      quickchartButtonEl.classList.add('colab-df-quickchart-complete');\n",
              "    }\n",
              "    (() => {\n",
              "      let quickchartButtonEl =\n",
              "        document.querySelector('#df-aaf323d0-d83a-41fa-a2df-8fc72e382271 button');\n",
              "      quickchartButtonEl.style.display =\n",
              "        google.colab.kernel.accessAllowed ? 'block' : 'none';\n",
              "    })();\n",
              "  </script>\n",
              "</div>\n",
              "    </div>\n",
              "  </div>\n"
            ],
            "application/vnd.google.colaboratory.intrinsic+json": {
              "type": "dataframe",
              "variable_name": "df_loja1_serie_temporal_agregada",
              "summary": "{\n  \"name\": \"df_loja1_serie_temporal_agregada\",\n  \"rows\": 1913,\n  \"fields\": [\n    {\n      \"column\": \"date\",\n      \"properties\": {\n        \"dtype\": \"object\",\n        \"num_unique_values\": 1913,\n        \"samples\": [\n          \"2014-06-12\",\n          \"2011-05-20\",\n          \"2016-02-18\"\n        ],\n        \"semantic_type\": \"\",\n        \"description\": \"\"\n      }\n    },\n    {\n      \"column\": \"wm_yr_wk\",\n      \"properties\": {\n        \"dtype\": \"int16\",\n        \"num_unique_values\": 274,\n        \"samples\": [\n          11131,\n          11408,\n          11438\n        ],\n        \"semantic_type\": \"\",\n        \"description\": \"\"\n      }\n    },\n    {\n      \"column\": \"wday\",\n      \"properties\": {\n        \"dtype\": \"int8\",\n        \"num_unique_values\": 7,\n        \"samples\": [\n          1,\n          2,\n          6\n        ],\n        \"semantic_type\": \"\",\n        \"description\": \"\"\n      }\n    },\n    {\n      \"column\": \"month\",\n      \"properties\": {\n        \"dtype\": \"int8\",\n        \"num_unique_values\": 12,\n        \"samples\": [\n          11,\n          10,\n          1\n        ],\n        \"semantic_type\": \"\",\n        \"description\": \"\"\n      }\n    },\n    {\n      \"column\": \"year\",\n      \"properties\": {\n        \"dtype\": \"int16\",\n        \"num_unique_values\": 6,\n        \"samples\": [\n          2011,\n          2012,\n          2016\n        ],\n        \"semantic_type\": \"\",\n        \"description\": \"\"\n      }\n    },\n    {\n      \"column\": \"d\",\n      \"properties\": {\n        \"dtype\": \"string\",\n        \"num_unique_values\": 1913,\n        \"samples\": [\n          \"d_1231\",\n          \"d_112\",\n          \"d_1847\"\n        ],\n        \"semantic_type\": \"\",\n        \"description\": \"\"\n      }\n    },\n    {\n      \"column\": \"Vendas_do_dia\",\n      \"properties\": {\n        \"dtype\": \"int16\",\n        \"num_unique_values\": 1458,\n        \"samples\": [\n          4327,\n          5875,\n          3330\n        ],\n        \"semantic_type\": \"\",\n        \"description\": \"\"\n      }\n    },\n    {\n      \"column\": \"n_eventos\",\n      \"properties\": {\n        \"dtype\": \"int8\",\n        \"num_unique_values\": 3,\n        \"samples\": [\n          0,\n          1,\n          2\n        ],\n        \"semantic_type\": \"\",\n        \"description\": \"\"\n      }\n    },\n    {\n      \"column\": \"week_group\",\n      \"properties\": {\n        \"dtype\": \"int8\",\n        \"num_unique_values\": 2,\n        \"samples\": [\n          1,\n          0\n        ],\n        \"semantic_type\": \"\",\n        \"description\": \"\"\n      }\n    }\n  ]\n}"
            }
          },
          "metadata": {},
          "execution_count": 6
        }
      ]
    },
    {
      "cell_type": "code",
      "source": [
        "print(df_loja1_serie_temporal_agregada.columns)"
      ],
      "metadata": {
        "colab": {
          "base_uri": "https://localhost:8080/"
        },
        "id": "aE2cAyhjg0hc",
        "outputId": "b3f6e8af-c06a-40ca-cdff-7778ee86addd"
      },
      "execution_count": 7,
      "outputs": [
        {
          "output_type": "stream",
          "name": "stdout",
          "text": [
            "Index(['date', 'wm_yr_wk', 'wday', 'month', 'year', 'd', 'Vendas_do_dia',\n",
            "       'n_eventos', 'week_group'],\n",
            "      dtype='object')\n"
          ]
        }
      ]
    },
    {
      "cell_type": "code",
      "source": [
        "print(df_time_series)"
      ],
      "metadata": {
        "colab": {
          "base_uri": "https://localhost:8080/"
        },
        "id": "3IgiOjj6i8mi",
        "outputId": "6febbd09-23df-4297-f01b-f46789ce6e1c"
      },
      "execution_count": 8,
      "outputs": [
        {
          "output_type": "stream",
          "name": "stdout",
          "text": [
            "            Vendas\n",
            "date              \n",
            "2011-01-29    4337\n",
            "2011-01-30    4155\n",
            "2011-01-31    2816\n",
            "2011-02-01    3051\n",
            "2011-02-02    2630\n",
            "...            ...\n",
            "2016-04-20    3722\n",
            "2016-04-21    3709\n",
            "2016-04-22    4387\n",
            "2016-04-23    5577\n",
            "2016-04-24    6113\n",
            "\n",
            "[1913 rows x 1 columns]\n"
          ]
        }
      ]
    },
    {
      "cell_type": "code",
      "source": [
        "from statsmodels.tsa.seasonal import seasonal_decompose\n",
        "\n",
        "decomposition = seasonal_decompose(df_time_series, model='additive', period=365)\n",
        "decomposition.plot()\n",
        "plt.show()"
      ],
      "metadata": {
        "colab": {
          "base_uri": "https://localhost:8080/",
          "height": 487
        },
        "id": "34ZOF2VhdjMP",
        "outputId": "0cc0ddbc-7321-4e0c-e2ed-00d3bc204bd4"
      },
      "execution_count": 9,
      "outputs": [
        {
          "output_type": "display_data",
          "data": {
            "text/plain": [
              "<Figure size 640x480 with 4 Axes>"
            ],
            "image/png": "[encoded data removed]"
          },
          "metadata": {}
        }
      ]
    },
    {
      "cell_type": "markdown",
      "source": [
        "## Carregar dados (agora concatenados)"
      ],
      "metadata": {
        "id": "OVLZ5o1FSCtl"
      }
    },
    {
      "cell_type": "code",
      "source": [
        "df_loja1_RNN = reduce_mem_usage(df_loja1_serie_temporal_agregada)\n",
        "\n",
        "#reduce_mem_usage(df_loja1_serie_temporal_agregada)"
      ],
      "metadata": {
        "id": "I11j27D4SeuA",
        "outputId": "566779f7-2f9c-44f8-c32b-c6bd6b659e8a",
        "colab": {
          "base_uri": "https://localhost:8080/"
        }
      },
      "execution_count": 10,
      "outputs": [
        {
          "output_type": "stream",
          "name": "stdout",
          "text": [
            "Mem. usage decreased to  0.05 Mb (0.0% reduction)\n"
          ]
        }
      ]
    },
    {
      "cell_type": "markdown",
      "source": [
        "# Treino de Modelos"
      ],
      "metadata": {
        "id": "vk_uvrVySHU-"
      }
    },
    {
      "cell_type": "markdown",
      "source": [
        "##### Rede Neuronal Recurrente (RNN)"
      ],
      "metadata": {
        "id": "cPRN-SMZx6Z6"
      }
    },
    {
      "cell_type": "code",
      "source": [
        "'''import pandas as pd\n",
        "import numpy as np\n",
        "import tensorflow as tf\n",
        "from tensorflow.keras.models import Sequential\n",
        "from tensorflow.keras.layers import Dense, SimpleRNN\n",
        "\n",
        "# Assuming df_loja1_RNN is your DataFrame\n",
        "# You should load or define your DataFrame here\n",
        "\n",
        "num_samples = 1913  # Assuming this is the correct number of samples\n",
        "time_steps = 30\n",
        "input_features = 3\n",
        "output_features = 1\n",
        "\n",
        "# Select specific input and output columns\n",
        "# Assuming df_loja1_RNN is your DataFrame\n",
        "selected_input_columns = df_loja1_RNN.iloc[:, [1, 2, 7, 8]]  # Access columns using .iloc method\n",
        "selected_output_column = df_loja1_RNN.iloc[:, 6]  # Access single column directly\n",
        "\n",
        "# Convert DataFrame columns to NumPy arrays\n",
        "X = selected_input_columns.values\n",
        "Y = selected_output_column.values\n",
        "\n",
        "# Calculate the number of sequences based on available samples and desired time steps\n",
        "num_sequences = num_samples // time_steps\n",
        "\n",
        "# Truncate the input and output data to fit the number of sequences#\n",
        "X_truncated = X[:num_sequences * time_steps].reshape(num_sequences, time_steps, input_features)\n",
        "Y_truncated = Y[(time_steps + 1):(num_sequences * time_steps + 1)].reshape(num_sequences, time_steps, output_features)\n",
        "'''"
      ],
      "metadata": {
        "id": "Hzckxj48SBY-",
        "outputId": "530f4349-efea-41b6-b657-e83e05546cdf",
        "colab": {
          "base_uri": "https://localhost:8080/",
          "height": 227
        }
      },
      "execution_count": 11,
      "outputs": [
        {
          "output_type": "execute_result",
          "data": {
            "text/plain": [
              "'import pandas as pd\\nimport numpy as np\\nimport tensorflow as tf\\nfrom tensorflow.keras.models import Sequential\\nfrom tensorflow.keras.layers import Dense, SimpleRNN\\n\\n# Assuming df_loja1_RNN is your DataFrame\\n# You should load or define your DataFrame here\\n\\nnum_samples = 1913  # Assuming this is the correct number of samples\\ntime_steps = 30\\ninput_features = 3\\noutput_features = 1\\n\\n# Select specific input and output columns\\n# Assuming df_loja1_RNN is your DataFrame\\nselected_input_columns = df_loja1_RNN.iloc[:, [1, 2, 7, 8]]  # Access columns using .iloc method\\nselected_output_column = df_loja1_RNN.iloc[:, 6]  # Access single column directly\\n\\n# Convert DataFrame columns to NumPy arrays\\nX = selected_input_columns.values\\nY = selected_output_column.values\\n\\n# Calculate the number of sequences based on available samples and desired time steps\\nnum_sequences = num_samples // time_steps\\n\\n# Truncate the input and output data to fit the number of sequences#\\nX_truncated = X[:num_sequences * time_steps].reshape(num_sequences, time_steps, input_features)\\nY_truncated = Y[(time_steps + 1):(num_sequences * time_steps + 1)].reshape(num_sequences, time_steps, output_features)\\n'"
            ],
            "application/vnd.google.colaboratory.intrinsic+json": {
              "type": "string"
            }
          },
          "metadata": {},
          "execution_count": 11
        }
      ]
    },
    {
      "cell_type": "code",
      "source": [
        "import numpy as np\n",
        "import tensorflow as tf\n",
        "from tensorflow.keras.models import Sequential\n",
        "from tensorflow.keras.layers import Dense, SimpleRNN\n",
        "\n",
        "# Select specific input and output columns\n",
        "# Assuming df_loja1_RNN is your DataFrame\n",
        "selected_input_columns = df_loja1_RNN.iloc[:, [1, 2, 7, 8, 6]]  # Access columns using .iloc method\n",
        "selected_output_column = df_loja1_RNN.iloc[:, 6]  # Access single column directly\n",
        "\n",
        "# Assuming you're using TensorFlow's timeseries_dataset_from_array\n",
        "from tensorflow.keras.preprocessing import timeseries_dataset_from_array\n",
        "\n",
        "input_data = selected_input_columns[:-14]\n",
        "targets = selected_output_column[14:]\n",
        "dataset = timeseries_dataset_from_array(\n",
        "    input_data, targets, sequence_length=14)\n",
        "for batch in dataset:\n",
        "    inputs, targets = batch\n",
        "    assert np.array_equal(inputs[0], selected_input_columns.values[:14])  # First sequence: steps [0-9]\n",
        "    # Corresponding target: step 10\n",
        "    assert np.array_equal(targets[0], selected_output_column.values[14])\n",
        "    break"
      ],
      "metadata": {
        "id": "Vc8AqsiarUyI"
      },
      "execution_count": 41,
      "outputs": []
    },
    {
      "cell_type": "code",
      "source": [
        "len(dataset)"
      ],
      "metadata": {
        "colab": {
          "base_uri": "https://localhost:8080/"
        },
        "id": "GpK0HLBl0ACg",
        "outputId": "3e0f8d66-93f5-4e20-d183-634e9e1697df"
      },
      "execution_count": 42,
      "outputs": [
        {
          "output_type": "execute_result",
          "data": {
            "text/plain": [
              "15"
            ]
          },
          "metadata": {},
          "execution_count": 42
        }
      ]
    },
    {
      "cell_type": "code",
      "source": [
        "inputs, targets = batch\n",
        "\n",
        "inputs"
      ],
      "metadata": {
        "id": "zl3UE3fiUi4h",
        "outputId": "c0959368-c87a-416f-ae52-4e2f03afbd43",
        "colab": {
          "base_uri": "https://localhost:8080/"
        }
      },
      "execution_count": 43,
      "outputs": [
        {
          "output_type": "execute_result",
          "data": {
            "text/plain": [
              "<tf.Tensor: shape=(128, 14, 5), dtype=int16, numpy=\n",
              "array([[[11101,     1,     0,     0,  4337],\n",
              "        [11101,     2,     0,     0,  4155],\n",
              "        [11101,     3,     0,     1,  2816],\n",
              "        ...,\n",
              "        [11102,     5,     0,     1,  2710],\n",
              "        [11102,     6,     0,     1,  2928],\n",
              "        [11102,     7,     0,     1,  3078]],\n",
              "\n",
              "       [[11101,     2,     0,     0,  4155],\n",
              "        [11101,     3,     0,     1,  2816],\n",
              "        [11101,     4,     0,     1,  3051],\n",
              "        ...,\n",
              "        [11102,     6,     0,     1,  2928],\n",
              "        [11102,     7,     0,     1,  3078],\n",
              "        [11103,     1,     0,     0,  4316]],\n",
              "\n",
              "       [[11101,     3,     0,     1,  2816],\n",
              "        [11101,     4,     0,     1,  3051],\n",
              "        [11101,     5,     0,     1,  2630],\n",
              "        ...,\n",
              "        [11102,     7,     0,     1,  3078],\n",
              "        [11103,     1,     0,     0,  4316],\n",
              "        [11103,     2,     0,     0,  4354]],\n",
              "\n",
              "       ...,\n",
              "\n",
              "       [[11118,     7,     0,     1,  3200],\n",
              "        [11119,     1,     0,     0,  3942],\n",
              "        [11119,     2,     0,     0,  3871],\n",
              "        ...,\n",
              "        [11120,     4,     0,     1,  2894],\n",
              "        [11120,     5,     0,     1,  2679],\n",
              "        [11120,     6,     0,     1,  2535]],\n",
              "\n",
              "       [[11119,     1,     0,     0,  3942],\n",
              "        [11119,     2,     0,     0,  3871],\n",
              "        [11119,     3,     0,     1,  3056],\n",
              "        ...,\n",
              "        [11120,     5,     0,     1,  2679],\n",
              "        [11120,     6,     0,     1,  2535],\n",
              "        [11120,     7,     0,     1,  2971]],\n",
              "\n",
              "       [[11119,     2,     0,     0,  3871],\n",
              "        [11119,     3,     0,     1,  3056],\n",
              "        [11119,     4,     0,     1,  2763],\n",
              "        ...,\n",
              "        [11120,     6,     0,     1,  2535],\n",
              "        [11120,     7,     0,     1,  2971],\n",
              "        [11121,     1,     0,     0,  3896]]], dtype=int16)>"
            ]
          },
          "metadata": {},
          "execution_count": 43
        }
      ]
    },
    {
      "cell_type": "code",
      "source": [
        "targets"
      ],
      "metadata": {
        "colab": {
          "base_uri": "https://localhost:8080/"
        },
        "id": "GySSsFtsw9Pp",
        "outputId": "26686129-2cd0-45ff-9314-28742d8e5bb1"
      },
      "execution_count": 44,
      "outputs": [
        {
          "output_type": "execute_result",
          "data": {
            "text/plain": [
              "<tf.Tensor: shape=(128,), dtype=int16, numpy=\n",
              "array([4316, 4354, 2757, 2430, 2272, 2009, 3015, 4553, 3966, 3264, 2441,\n",
              "       2377, 2414, 2701, 3719, 3548, 2246, 2549, 2559, 2568, 2978, 4096,\n",
              "       4832, 3138, 2997, 2772, 2650, 3249, 4114, 4094, 2880, 2384, 2522,\n",
              "       2435, 2744, 4142, 3904, 2635, 2458, 2079, 2281, 2740, 3899, 3999,\n",
              "       2780, 2167, 2247, 2576, 3500, 4325, 4396, 3642, 2784, 2602, 2976,\n",
              "       3294, 4083, 4194, 3015, 2512, 2217, 2520, 2867, 3571, 4084, 2760,\n",
              "       2234, 2261, 2487, 3155, 4187, 2946, 2439, 2085, 2096, 2086, 2675,\n",
              "       3560, 3668, 2911, 2839, 2610, 2384, 3125, 3816, 3033, 3069, 2985,\n",
              "       2629, 2277, 3008, 3754, 3822, 2582, 2144, 2174, 2168, 2664, 3463,\n",
              "       3597, 2461, 2160, 2251, 2296, 2642, 3214, 3202, 2884, 2156, 2529,\n",
              "       2652, 3200, 3942, 3871, 3056, 2763, 2884, 2787, 3420, 3588, 3569,\n",
              "       3149, 2894, 2679, 2535, 2971, 3896, 3109], dtype=int16)>"
            ]
          },
          "metadata": {},
          "execution_count": 44
        }
      ]
    },
    {
      "cell_type": "code",
      "source": [
        "# Define the RNN model\n",
        "\n",
        "'''\n",
        "from tensorflow.keras.models import Sequential\n",
        "from tensorflow.keras.layers import SimpleRNN, Dense, Bidirectional\n",
        "\n",
        "model = Sequential([\n",
        "    Bidirectional(SimpleRNN(320, return_sequences=True), input_shape=(10, 5)),\n",
        "    Bidirectional(SimpleRNN(320, return_sequences=False)),\n",
        "    Dense(320, activation='relu'),\n",
        "    Dense(1)\n",
        "])\n",
        "'''\n",
        "\n",
        "\n",
        "#'''\n",
        "from tensorflow.keras.models import Sequential\n",
        "from tensorflow.keras.layers import SimpleRNN, Dense, LSTM, Dropout\n",
        "\n",
        "# Define the RNN model\n",
        "\n",
        "model = Sequential([\n",
        "    LSTM(320, input_shape=(14, 5), return_sequences=True),  # LSTM layer with return_sequences=True to return sequences\n",
        "    Dropout(0.2),  # Dropout layer to prevent overfitting\n",
        "    LSTM(320, return_sequences=False),  # Another LSTM layer without returning sequences\n",
        "    Dropout(0.2),  # Dropout layer\n",
        "    Dense(320, activation='relu'),  # Dense layer with ReLU activation\n",
        "    Dense(1)  # Output layer\n",
        "])\n",
        "#'''\n",
        "\n",
        "'''\n",
        "from tensorflow.keras.models import Sequential\n",
        "from tensorflow.keras.layers import SimpleRNN, Dense, LSTM, Dropout\n",
        "\n",
        "model = Sequential()\n",
        "\n",
        "# Adding the first LSTM layer and some Dropout regularisation\n",
        "layer_1_units=40\n",
        "model.add(LSTM(units = layer_1_units, return_sequences = True, input_shape = (10,5)))\n",
        "model.add(Dropout(0.2))\n",
        "\n",
        "# Adding a second LSTM layer and some Dropout regularisation\n",
        "layer_2_units=300\n",
        "model.add(LSTM(units = layer_2_units, return_sequences = True))\n",
        "model.add(Dropout(0.2))\n",
        "\n",
        "# Adding a third LSTM layer and some Dropout regularisation\n",
        "layer_3_units=300\n",
        "model.add(LSTM(units = layer_3_units))\n",
        "model.add(Dropout(0.2))\n",
        "\n",
        "# Adding the output layer\n",
        "model.add(Dense(units = 1))\n",
        "'''\n",
        "\n",
        "# Compile the model\n",
        "model.compile(optimizer='adam', loss='mean_absolute_error')\n",
        "\n",
        "# Train the model\n",
        "model.fit(dataset, epochs=40)"
      ],
      "metadata": {
        "id": "UfdWYDztUgNa",
        "colab": {
          "base_uri": "https://localhost:8080/"
        },
        "outputId": "faac016a-de09-4fb7-8c5f-ec30ed82cc07"
      },
      "execution_count": 45,
      "outputs": [
        {
          "output_type": "stream",
          "name": "stdout",
          "text": [
            "Epoch 1/40\n",
            "15/15 [==============================] - 9s 323ms/step - loss: 4002.2634\n",
            "Epoch 2/40\n",
            "15/15 [==============================] - 5s 333ms/step - loss: 3920.4543\n",
            "Epoch 3/40\n",
            "15/15 [==============================] - 6s 369ms/step - loss: 3798.8694\n",
            "Epoch 4/40\n",
            "15/15 [==============================] - 6s 401ms/step - loss: 3628.4868\n",
            "Epoch 5/40\n",
            "15/15 [==============================] - 5s 350ms/step - loss: 3405.3264\n",
            "Epoch 6/40\n",
            "15/15 [==============================] - 6s 357ms/step - loss: 3121.6787\n",
            "Epoch 7/40\n",
            "15/15 [==============================] - 5s 330ms/step - loss: 2777.0842\n",
            "Epoch 8/40\n",
            "15/15 [==============================] - 6s 399ms/step - loss: 2368.4695\n",
            "Epoch 9/40\n",
            "15/15 [==============================] - 5s 328ms/step - loss: 1898.7262\n",
            "Epoch 10/40\n",
            "15/15 [==============================] - 6s 403ms/step - loss: 1384.5244\n",
            "Epoch 11/40\n",
            "15/15 [==============================] - 5s 332ms/step - loss: 968.8810\n",
            "Epoch 12/40\n",
            "15/15 [==============================] - 6s 386ms/step - loss: 790.9891\n",
            "Epoch 13/40\n",
            "15/15 [==============================] - 5s 325ms/step - loss: 767.4076\n",
            "Epoch 14/40\n",
            "15/15 [==============================] - 6s 398ms/step - loss: 785.0750\n",
            "Epoch 15/40\n",
            "15/15 [==============================] - 5s 366ms/step - loss: 782.4642\n",
            "Epoch 16/40\n",
            "15/15 [==============================] - 5s 326ms/step - loss: 789.0766\n",
            "Epoch 17/40\n",
            "15/15 [==============================] - 6s 397ms/step - loss: 782.5911\n",
            "Epoch 18/40\n",
            "15/15 [==============================] - 5s 323ms/step - loss: 789.3944\n",
            "Epoch 19/40\n",
            "15/15 [==============================] - 6s 399ms/step - loss: 790.7589\n",
            "Epoch 20/40\n",
            "15/15 [==============================] - 5s 328ms/step - loss: 786.0888\n",
            "Epoch 21/40\n",
            "15/15 [==============================] - 6s 376ms/step - loss: 783.8205\n",
            "Epoch 22/40\n",
            "15/15 [==============================] - 6s 403ms/step - loss: 787.1613\n",
            "Epoch 23/40\n",
            "15/15 [==============================] - 5s 337ms/step - loss: 782.9987\n",
            "Epoch 24/40\n",
            "15/15 [==============================] - 6s 366ms/step - loss: 785.8264\n",
            "Epoch 25/40\n",
            "15/15 [==============================] - 6s 399ms/step - loss: 786.2770\n",
            "Epoch 26/40\n",
            "15/15 [==============================] - 5s 328ms/step - loss: 787.4804\n",
            "Epoch 27/40\n",
            "15/15 [==============================] - 6s 392ms/step - loss: 788.8801\n",
            "Epoch 28/40\n",
            "15/15 [==============================] - 5s 334ms/step - loss: 788.0463\n",
            "Epoch 29/40\n",
            "15/15 [==============================] - 6s 400ms/step - loss: 786.3040\n",
            "Epoch 30/40\n",
            "15/15 [==============================] - 5s 331ms/step - loss: 786.3187\n",
            "Epoch 31/40\n",
            "15/15 [==============================] - 6s 399ms/step - loss: 786.2687\n",
            "Epoch 32/40\n",
            "15/15 [==============================] - 5s 323ms/step - loss: 788.6045\n",
            "Epoch 33/40\n",
            "15/15 [==============================] - 6s 380ms/step - loss: 787.4211\n",
            "Epoch 34/40\n",
            "15/15 [==============================] - 5s 328ms/step - loss: 789.7328\n",
            "Epoch 35/40\n",
            "15/15 [==============================] - 6s 401ms/step - loss: 789.5950\n",
            "Epoch 36/40\n",
            "15/15 [==============================] - 5s 331ms/step - loss: 789.6392\n",
            "Epoch 37/40\n",
            "15/15 [==============================] - 6s 402ms/step - loss: 787.6351\n",
            "Epoch 38/40\n",
            "15/15 [==============================] - 5s 328ms/step - loss: 786.5789\n",
            "Epoch 39/40\n",
            "15/15 [==============================] - 6s 390ms/step - loss: 787.3914\n",
            "Epoch 40/40\n",
            "15/15 [==============================] - 6s 403ms/step - loss: 787.5513\n"
          ]
        },
        {
          "output_type": "execute_result",
          "data": {
            "text/plain": [
              "<keras.src.callbacks.History at 0x7c4175c05510>"
            ]
          },
          "metadata": {},
          "execution_count": 45
        }
      ]
    },
    {
      "cell_type": "code",
      "source": [
        "# Make predictions\n",
        "predictions = model.predict(dataset)\n",
        "\n",
        "print(\"Predictions:\")\n",
        "print(predictions)"
      ],
      "metadata": {
        "colab": {
          "base_uri": "https://localhost:8080/"
        },
        "id": "Q6PjuYJj27kq",
        "outputId": "da5a828b-8dce-450e-ff2b-7fff638bbcb1"
      },
      "execution_count": 46,
      "outputs": [
        {
          "output_type": "stream",
          "name": "stdout",
          "text": [
            "15/15 [==============================] - 3s 123ms/step\n",
            "Predictions:\n",
            "[[3940.6494]\n",
            " [3940.6494]\n",
            " [3940.6494]\n",
            " ...\n",
            " [3940.6494]\n",
            " [3940.6494]\n",
            " [3940.6494]]\n"
          ]
        }
      ]
    },
    {
      "cell_type": "code",
      "source": [
        "# Flatten the array of arrays into a single list\n",
        "flat_data = [item for sublist in predictions for item in sublist]\n",
        "\n",
        "# Count the frequency of each item\n",
        "unique_items, frequencies = np.unique(flat_data, return_counts=True)\n",
        "\n",
        "print(unique_items)\n",
        "print(frequencies)\n",
        "\n",
        "# Create the frequency plot\n",
        "plt.bar(unique_items, frequencies)\n",
        "plt.xlabel('Item')\n",
        "plt.ylabel('Frequency')\n",
        "plt.title('Frequency of Items')\n",
        "plt.grid(True)  # Add grid lines\n",
        "plt.show()"
      ],
      "metadata": {
        "id": "U8h3qSBm40mP",
        "outputId": "7f5135d9-940f-4c21-9e64-0e4200a0e5b9",
        "colab": {
          "base_uri": "https://localhost:8080/",
          "height": 507
        }
      },
      "execution_count": 47,
      "outputs": [
        {
          "output_type": "stream",
          "name": "stdout",
          "text": [
            "[3940.6287 3940.6494 3940.6497 3940.6511]\n",
            "[   5 1790   26   65]\n"
          ]
        },
        {
          "output_type": "display_data",
          "data": {
            "text/plain": [
              "<Figure size 640x480 with 1 Axes>"
            ],
            "image/png": "[encoded data removed]"
          },
          "metadata": {}
        }
      ]
    },
    {
      "cell_type": "markdown",
      "source": [
        "# IGNORAR\n",
        "\n",
        "A partir daqui, tem apenas código auxiliar para ajudar a obter uma versão reduzida dos dados. Por isso, irá ficar tudo em comentário.\n",
        "\n",
        "\n",
        "\n"
      ],
      "metadata": {
        "id": "NzhduHH0HyJE"
      }
    },
    {
      "cell_type": "code",
      "source": [
        "'''\n",
        "\n",
        "# (Prices preços) Reduzir os dados para apenas de uma loja\n",
        "\n",
        "df_prices = pd.read_csv('sell_prices.csv')\n",
        "\n",
        "csv_path = \"df_prices_Loja1.csv\"\n",
        "id_loja = \"CA_1\"\n",
        "coluna = \"store_id\"\n",
        "\n",
        "# Ler o arquivo CSV existente, se houver\n",
        "try:\n",
        "    df_existing = pd.read_csv(csv_path)\n",
        "except FileNotFoundError:\n",
        "    df_existing = pd.DataFrame()\n",
        "\n",
        "index = 0\n",
        "still_searching = True\n",
        "\n",
        "while still_searching:\n",
        "    actual_price = df_prices.iloc[index]\n",
        "    loja = actual_price[coluna]\n",
        "    if loja == id_loja:\n",
        "        print(index, end=' ')\n",
        "        # Adicionar a linha ao dataframe existente\n",
        "        df_existing = pd.concat([df_existing, actual_price], ignore_index=True)\n",
        "        index = index + 1\n",
        "        continue\n",
        "    still_searching = False\n",
        "\n",
        "# Salvar o dataframe resultante no arquivo CSV, adicionando ao final do arquivo\n",
        "df_existing.to_csv(csv_path, mode='a', index=False, header=not any(df_existing))\n",
        "\n",
        "'''"
      ],
      "metadata": {
        "id": "lJvfgibNNrKn"
      },
      "execution_count": null,
      "outputs": []
    }
  ]
}